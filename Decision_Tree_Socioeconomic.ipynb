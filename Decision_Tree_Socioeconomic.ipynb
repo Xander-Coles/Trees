{
 "cells": [
  {
   "cell_type": "code",
   "execution_count": 1,
   "metadata": {},
   "outputs": [],
   "source": [
    "import pandas as pd\n",
    "import re\n",
    "import numpy as np\n",
    "import pandas as pd\n",
    "from sklearn.tree import DecisionTreeClassifier\n",
    "from sklearn.ensemble import RandomForestClassifier\n",
    "from sklearn.model_selection import train_test_split\n",
    "from sklearn.preprocessing import LabelEncoder\n",
    "from sklearn.metrics import accuracy_score, classification_report\n",
    "from sklearn.metrics import mean_squared_error, r2_score\n",
    "from sklearn.preprocessing import StandardScaler"
   ]
  },
  {
   "cell_type": "code",
   "execution_count": 2,
   "metadata": {},
   "outputs": [],
   "source": [
    "#load, clean, and merge data\n",
    "demo_df = pd.read_csv('Economic_census.csv')\n",
    "\n",
    "tree_df = pd.read_csv('DecisionTree_RandomForest_Health_Predictions.csv')\n",
    "\n",
    "merged_df = pd.merge(tree_df, demo_df, on=['census tract','borough'])\n",
    "\n",
    "#transform health metrics from field into values\n",
    "label_encoder = LabelEncoder()\n",
    "merged_df['health_encoded_dt'] = label_encoder.fit_transform(merged_df['dt_predicted_health'])\n",
    "merged_df['health_encoded_rf'] = label_encoder.fit_transform(merged_df['rf_predicted_health'])"
   ]
  },
  {
   "cell_type": "code",
   "execution_count": 12,
   "metadata": {},
   "outputs": [],
   "source": [
    "#Prepare tree analysis to be done and ivide into 3 categories\n",
    "bins = [0,6.0,13.0,100.0]\n",
    "labels = ['Low', 'Medium', 'High']\n",
    "merged_df['poverty_category'] = pd.cut(merged_df['Poverty Percent'], bins=bins, labels=labels)\n",
    "\n",
    "#Select all columns that have numerical values. Species subdivision and binary analysis are names from data cleaning\n",
    "unique_species = merged_df['spc_common'].unique() \n",
    "species_columns = [col for col in merged_df.columns if col in unique_species]\n",
    "\n",
    "binary_analysis = ['root_stone', 'root_grate', 'root_other', 'trunk_wire',\n",
    "                   'trnk_light', 'trnk_other', 'brch_light', 'brch_shoe', 'brch_other']\n",
    "#Drop if no value was predicted previously\n",
    "valid_indices = merged_df[['health_encoded_dt', 'health_encoded_rf', 'poverty_category']].dropna().index\n",
    "\n",
    "#Separate for X and Y\n",
    "X = merged_df.loc[valid_indices, ['latitude', 'longitude', 'postcode'] + species_columns\n",
    "               + binary_analysis + ['curb_loc', 'sidewalk', 'guards', 'steward', 'user_type',\n",
    "                                    'health', 'health_encoded_dt', 'health_encoded_rf']]\n",
    "y = merged_df.loc[valid_indices, 'poverty_category']\n",
    "\n",
    "#Separate into train and test sets\n",
    "X_train, X_test, y_train, y_test = train_test_split(X, y, test_size=0.3, random_state=42)\n"
   ]
  },
  {
   "cell_type": "code",
   "execution_count": 13,
   "metadata": {},
   "outputs": [
    {
     "name": "stdout",
     "output_type": "stream",
     "text": [
      "Accuracy: 0.4089787612870406\n",
      "Classification Report:\n",
      "               precision    recall  f1-score   support\n",
      "\n",
      "        High       0.59      0.49      0.54     96638\n",
      "         Low       0.25      0.58      0.35     37500\n",
      "      Medium       0.39      0.18      0.25     62437\n",
      "\n",
      "    accuracy                           0.41    196575\n",
      "   macro avg       0.41      0.42      0.38    196575\n",
      "weighted avg       0.46      0.41      0.41    196575\n",
      "\n",
      "                Feature  Importance\n",
      "146             steward    0.078963\n",
      "147           user_type    0.077006\n",
      "145              guards    0.065792\n",
      "148              health    0.063410\n",
      "149   health_encoded_dt    0.059601\n",
      "..                  ...         ...\n",
      "88        Norway spruce    0.000000\n",
      "87       European beech    0.000000\n",
      "86             boxelder    0.000000\n",
      "85          river birch    0.000000\n",
      "75   Chinese tree lilac    0.000000\n",
      "\n",
      "[151 rows x 2 columns]\n"
     ]
    }
   ],
   "source": [
    "#Declare decision tree and train it on the train set\n",
    "clf = DecisionTreeClassifier(random_state=42, max_depth=20, class_weight='balanced')\n",
    "clf.fit(X_train, y_train)\n",
    "\n",
    "#Report accurancy results and most important features to be higlighted in report and used for other methods\n",
    "y_pred = clf.predict(X_test)\n",
    "print(\"Accuracy:\", accuracy_score(y_test, y_pred))\n",
    "print(\"Classification Report:\\n\", classification_report(y_test, y_pred))\n",
    "\n",
    "importances = clf.feature_importances_\n",
    "feature_importance_df = pd.DataFrame({'Feature': X.columns, 'Importance': importances})\n",
    "feature_importance_df = feature_importance_df.sort_values(by='Importance', ascending=False)\n",
    "print(feature_importance_df)\n",
    "\n",
    "#create new calumn base on predictions to be possibly used in cloropath\n",
    "y_pred_all = clf.predict(X)\n",
    "merged_df.loc[valid_indices, 'dtfr_predicted_poverty'] = y_pred_all\n",
    "merged_df.to_csv('DecisionTree_Socioeconomic_Predictions.csv', index=False)\n"
   ]
  },
  {
   "cell_type": "code",
   "execution_count": 14,
   "metadata": {},
   "outputs": [
    {
     "name": "stdout",
     "output_type": "stream",
     "text": [
      "DT Mean Squared Error: 0.5671117739899375\n",
      "DT R^2 Score: 0.04183022863117958\n"
     ]
    }
   ],
   "source": [
    "#mse and r^2 calculations\n",
    "from sklearn.tree import DecisionTreeRegressor\n",
    "\n",
    "#Same as above and but now a regression tree, this is to have a R2 and MSE. THis is needed in order to have some comparison\n",
    "#for other methods\n",
    "#As a reminder accurancy of a classification method above is not the same as R2.\n",
    "merged_df = merged_df.dropna(subset=['dtfr_predicted_poverty', 'health_encoded_dt', 'health_encoded_rf'])\n",
    "label_mapping = {'Low': 0, 'Medium': 1, 'High': 2}\n",
    "merged_df['status_numeric'] = merged_df['poverty_category'].map(label_mapping)\n",
    "\n",
    "y = merged_df['status_numeric']\n",
    "X = merged_df.loc[valid_indices, ['latitude', 'longitude', 'postcode'] + species_columns\n",
    "               + binary_analysis + ['curb_loc', 'sidewalk', 'guards', 'steward', 'user_type',\n",
    "                                    'health', 'health_encoded_dt', 'health_encoded_rf']]\n",
    "\n",
    "X_train, X_test, y_train, y_test = train_test_split(X, y, test_size=0.3, random_state=42)\n",
    "\n",
    "reg = DecisionTreeRegressor(random_state=42, max_depth=20)\n",
    "reg.fit(X_train, y_train)\n",
    "\n",
    "y_pred = reg.predict(X_test)\n",
    "print(\"DT Mean Squared Error:\", mean_squared_error(y_test, y_pred))\n",
    "print(\"DT R^2 Score:\", r2_score(y_test, y_pred))"
   ]
  },
  {
   "cell_type": "code",
   "execution_count": null,
   "metadata": {},
   "outputs": [],
   "source": [
    "df['census tract'] = df['census tract'].astype(str).str.replace('.00', '', regex=True)\n",
    "def striging(census):\n",
    "    modified_tracts = []\n",
    "    for part in census:\n",
    "        part1 = str(part)\n",
    "        part_no = part1\n",
    "        if part1[len(part1)-2]=='.':\n",
    "            part_no = part_no[:len(part1)-2]\n",
    "        modified_tracts.append(part_no)\n",
    "    return modified_tracts\n",
    "\n",
    "df['census tract'] = striging(df['census tract'])\n",
    "print(df['census tract'])"
   ]
  },
  {
   "cell_type": "code",
   "execution_count": null,
   "metadata": {
    "scrolled": true
   },
   "outputs": [],
   "source": [
    "#All the one's below were just for extra testing"
   ]
  },
  {
   "cell_type": "code",
   "execution_count": 42,
   "metadata": {},
   "outputs": [
    {
     "name": "stdout",
     "output_type": "stream",
     "text": [
      "DT Mean Squared Error: 0.5671117739899375\n",
      "DT R^2 Score: 0.04183022863117958\n"
     ]
    }
   ],
   "source": [
    "\n",
    "merged_df = merged_df.dropna(subset=['dtfr_predicted_poverty', 'health_encoded_dt', 'health_encoded_rf'])\n",
    "label_mapping = {'Low': 0, 'Medium': 1, 'High': 2}\n",
    "merged_df['status_numeric'] = merged_df['poverty_category'].map(label_mapping)\n",
    "\n",
    "y = merged_df['status_numeric']\n",
    "X = merged_df.loc[valid_indices, species_columns\n",
    "               + binary_analysis + ['curb_loc', 'sidewalk', 'guards', 'steward', 'user_type',\n",
    "                                    'health', 'health_encoded_dt', 'health_encoded_rf']]\n",
    "\n",
    "X_train, X_test, y_train, y_test = train_test_split(X, y, test_size=0.3, random_state=42)\n",
    "\n",
    "reg = DecisionTreeRegressor(random_state=42, max_depth=20)\n",
    "reg.fit(X_train, y_train)\n",
    "\n",
    "y_pred = reg.predict(X_test)\n",
    "print(\"DT Mean Squared Error:\", mean_squared_error(y_test, y_pred))\n",
    "print(\"DT R^2 Score:\", r2_score(y_test, y_pred))"
   ]
  },
  {
   "cell_type": "code",
   "execution_count": 36,
   "metadata": {},
   "outputs": [
    {
     "name": "stdout",
     "output_type": "stream",
     "text": [
      "                Feature  Importance\n",
      "147           user_type    0.092600\n",
      "145              guards    0.067138\n",
      "146             steward    0.064255\n",
      "28         Callery pear    0.054870\n",
      "148              health    0.050356\n",
      "..                  ...         ...\n",
      "113          Scots pine    0.000000\n",
      "114        tartar maple    0.000000\n",
      "115         black maple    0.000000\n",
      "117       quaking aspen    0.000000\n",
      "75   Chinese tree lilac    0.000000\n",
      "\n",
      "[151 rows x 2 columns]\n"
     ]
    }
   ],
   "source": [
    "importances = reg.feature_importances_\n",
    "feature_importance_df = pd.DataFrame({'Feature': X.columns, 'Importance': importances})\n",
    "feature_importance_df = feature_importance_df.sort_values(by='Importance', ascending=False)\n",
    "print(feature_importance_df)\n"
   ]
  },
  {
   "cell_type": "code",
   "execution_count": null,
   "metadata": {},
   "outputs": [],
   "source": []
  }
 ],
 "metadata": {
  "kernelspec": {
   "display_name": "Python 3 (ipykernel)",
   "language": "python",
   "name": "python3"
  },
  "language_info": {
   "codemirror_mode": {
    "name": "ipython",
    "version": 3
   },
   "file_extension": ".py",
   "mimetype": "text/x-python",
   "name": "python",
   "nbconvert_exporter": "python",
   "pygments_lexer": "ipython3",
   "version": "3.9.12"
  }
 },
 "nbformat": 4,
 "nbformat_minor": 2
}
