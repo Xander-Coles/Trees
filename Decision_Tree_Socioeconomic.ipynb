{
 "cells": [
  {
   "cell_type": "code",
   "execution_count": 18,
   "metadata": {},
   "outputs": [],
   "source": [
    "import pandas as pd\n",
    "import re\n",
    "import numpy as np\n",
    "import pandas as pd\n",
    "from sklearn.tree import DecisionTreeClassifier\n",
    "from sklearn.ensemble import RandomForestClassifier\n",
    "from sklearn.model_selection import train_test_split\n",
    "from sklearn.preprocessing import LabelEncoder\n",
    "from sklearn.metrics import accuracy_score, classification_report\n",
    "from sklearn.metrics import mean_squared_error, r2_score\n",
    "from sklearn.preprocessing import StandardScaler"
   ]
  },
  {
   "cell_type": "code",
   "execution_count": 3,
   "metadata": {},
   "outputs": [],
   "source": [
    "#load, clean, and merge data\n",
    "demo_df = pd.read_csv('Economic_census.csv')\n",
    "\n",
    "tree_df = pd.read_csv('DecisionTree_RandomForest_Health_Predictions.csv')\n",
    "\n",
    "merged_df = pd.merge(tree_df, demo_df, on=['census tract','borough'])\n",
    "\n",
    "label_encoder = LabelEncoder()\n",
    "merged_df['health_encoded_dt'] = label_encoder.fit_transform(merged_df['dt_predicted_health'])\n",
    "merged_df['health_encoded_rf'] = label_encoder.fit_transform(merged_df['rf_predicted_health'])"
   ]
  },
  {
   "cell_type": "code",
   "execution_count": 26,
   "metadata": {},
   "outputs": [],
   "source": [
    "bins = [0,6.0,13.0,100.0]\n",
    "labels = ['Low', 'Medium', 'High']\n",
    "merged_df['poverty_category'] = pd.cut(merged_df['Poverty Percent'], bins=bins, labels=labels)\n",
    "\n",
    "valid_indices = merged_df[['health_encoded_dt', 'health_encoded_rf', 'poverty_category']].dropna().index\n",
    "X = merged_df.loc[valid_indices, ['latitude', 'longitude', 'postcode'] + species_columns\n",
    "               + binary_analysis + ['curb_loc', 'sidewalk', 'guards', 'steward', 'user_type',\n",
    "                                    'health', 'health_encoded_dt', 'health_encoded_rf']]\n",
    "y = merged_df.loc[valid_indices, 'poverty_category']\n",
    "\n",
    "X_train, X_test, y_train, y_test = train_test_split(X, y, test_size=0.3, random_state=42)\n",
    "\n",
    "#unique_species = merged_df['spc_common'].unique() \n",
    "#species_columns = [col for col in merged_df.columns if col in unique_species]\n",
    "#binary_analysis = ['root_stone', 'root_grate', 'root_other', 'trunk_wire',\n",
    "#                   'trnk_light', 'trnk_other', 'brch_light', 'brch_shoe', 'brch_other']\n",
    "#scaler = StandardScaler()\n",
    "#numerical_cols = ['curb_loc', 'sidewalk', 'guards', 'steward', 'health'] + binary_analysis+species_columns\n",
    "#X_train[numerical_cols] = scaler.fit_transform(X_train[numerical_cols])\n",
    "#X_test[numerical_cols] = scaler.transform(X_test[numerical_cols])\n"
   ]
  },
  {
   "cell_type": "code",
   "execution_count": 27,
   "metadata": {},
   "outputs": [
    {
     "name": "stdout",
     "output_type": "stream",
     "text": [
      "Accuracy: 0.7737301284497011\n",
      "Classification Report:\n",
      "               precision    recall  f1-score   support\n",
      "\n",
      "        High       0.90      0.85      0.87     96638\n",
      "         Low       0.61      0.85      0.71     37500\n",
      "      Medium       0.72      0.61      0.66     62437\n",
      "\n",
      "    accuracy                           0.77    196575\n",
      "   macro avg       0.74      0.77      0.75    196575\n",
      "weighted avg       0.79      0.77      0.77    196575\n",
      "\n",
      "                Feature  Importance\n",
      "0              latitude    0.395086\n",
      "1             longitude    0.360544\n",
      "2              postcode    0.237893\n",
      "150           user_type    0.004674\n",
      "148              guards    0.000836\n",
      "..                  ...         ...\n",
      "81      eastern hemlock    0.000000\n",
      "80   eastern cottonwood    0.000000\n",
      "79    American hornbeam    0.000000\n",
      "78   Chinese tree lilac    0.000000\n",
      "77       tree of heaven    0.000000\n",
      "\n",
      "[154 rows x 2 columns]\n"
     ]
    }
   ],
   "source": [
    "clf = DecisionTreeClassifier(random_state=42, max_depth=10, class_weight='balanced')\n",
    "clf.fit(X_train, y_train)\n",
    "\n",
    "y_pred = clf.predict(X_test)\n",
    "print(\"Accuracy:\", accuracy_score(y_test, y_pred))\n",
    "print(\"Classification Report:\\n\", classification_report(y_test, y_pred))\n",
    "\n",
    "importances = clf.feature_importances_\n",
    "feature_importance_df = pd.DataFrame({'Feature': X.columns, 'Importance': importances})\n",
    "feature_importance_df = feature_importance_df.sort_values(by='Importance', ascending=False)\n",
    "print(feature_importance_df)\n",
    "\n",
    "y_pred_all = clf.predict(X)\n",
    "merged_df.loc[valid_indices, 'dtfr_predicted_poverty'] = y_pred_all\n",
    "merged_df.to_csv('DecisionTree_Socioeconomic_Predictions.csv', index=False)\n"
   ]
  },
  {
   "cell_type": "code",
   "execution_count": 12,
   "metadata": {},
   "outputs": [
    {
     "name": "stdout",
     "output_type": "stream",
     "text": [
      "['High' 'Low']\n",
      "['High' 'Low']\n"
     ]
    }
   ],
   "source": [
    "print(np.unique(y_pred))\n",
    "print(np.unique(y_pred_all))"
   ]
  },
  {
   "cell_type": "code",
   "execution_count": 28,
   "metadata": {},
   "outputs": [
    {
     "name": "stdout",
     "output_type": "stream",
     "text": [
      "DT Mean Squared Error: 0.1980277872939993\n",
      "DT R^2 Score: 0.6654200311497476\n"
     ]
    }
   ],
   "source": [
    "#mse and r^2 calculations\n",
    "from sklearn.tree import DecisionTreeRegressor\n",
    "\n",
    "merged_df = merged_df.dropna(subset=['dtfr_predicted_poverty', 'health_encoded_dt', 'health_encoded_rf'])\n",
    "label_mapping = {'Low': 0, 'Medium': 1, 'High': 2}\n",
    "merged_df['status_numeric'] = merged_df['poverty_category'].map(label_mapping)\n",
    "\n",
    "y = merged_df['status_numeric']\n",
    "X = merged_df.loc[valid_indices, ['latitude', 'longitude', 'postcode'] + species_columns\n",
    "               + binary_analysis + ['curb_loc', 'sidewalk', 'guards', 'steward', 'user_type',\n",
    "                                    'health', 'health_encoded_dt', 'health_encoded_rf']]\n",
    "\n",
    "X_train, X_test, y_train, y_test = train_test_split(X, y, test_size=0.3, random_state=42)\n",
    "\n",
    "reg = DecisionTreeRegressor(random_state=42, max_depth=10)\n",
    "reg.fit(X_train, y_train)\n",
    "\n",
    "y_pred = reg.predict(X_test)\n",
    "print(\"DT Mean Squared Error:\", mean_squared_error(y_test, y_pred))\n",
    "print(\"DT R^2 Score:\", r2_score(y_test, y_pred))"
   ]
  },
  {
   "cell_type": "code",
   "execution_count": null,
   "metadata": {},
   "outputs": [],
   "source": []
  }
 ],
 "metadata": {
  "kernelspec": {
   "display_name": "Python 3 (ipykernel)",
   "language": "python",
   "name": "python3"
  },
  "language_info": {
   "codemirror_mode": {
    "name": "ipython",
    "version": 3
   },
   "file_extension": ".py",
   "mimetype": "text/x-python",
   "name": "python",
   "nbconvert_exporter": "python",
   "pygments_lexer": "ipython3",
   "version": "3.9.12"
  }
 },
 "nbformat": 4,
 "nbformat_minor": 2
}
