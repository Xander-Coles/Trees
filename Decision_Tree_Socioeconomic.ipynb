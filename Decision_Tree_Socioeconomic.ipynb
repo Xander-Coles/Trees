{
 "cells": [
  {
   "cell_type": "code",
   "execution_count": 16,
   "metadata": {},
   "outputs": [],
   "source": [
    "import pandas as pd\n",
    "import re\n",
    "import numpy as np\n",
    "import pandas as pd\n",
    "from sklearn.tree import DecisionTreeClassifier\n",
    "from sklearn.ensemble import RandomForestClassifier\n",
    "from sklearn.model_selection import train_test_split\n",
    "from sklearn.preprocessing import LabelEncoder\n",
    "from sklearn.metrics import accuracy_score, classification_report\n",
    "from sklearn.metrics import mean_squared_error, r2_score"
   ]
  },
  {
   "cell_type": "code",
   "execution_count": 17,
   "metadata": {},
   "outputs": [
    {
     "name": "stderr",
     "output_type": "stream",
     "text": [
      "C:\\Users\\archi_h340w2d\\AppData\\Local\\Temp\\ipykernel_39376\\2148714550.py:14: UserWarning: You are merging on int and float columns where the float values are not equal to their int representation.\n",
      "  merged_df = pd.merge(tree_df, demo_df, on=['census tract','borough'])\n"
     ]
    }
   ],
   "source": [
    "#load, clean, and merge data\n",
    "demo_df = pd.read_csv('Demographic_New_York_withborough_census_trackt.csv')\n",
    "demo_df['census tract'] = demo_df['Geographic Area Name'].apply(lambda x: re.findall(r'\\d+', x)[0])\n",
    "demo_df['census tract'] = demo_df['census tract'].astype(int)\n",
    "\n",
    "demo_df.columns = demo_df.columns.str.replace('!!Estimate!!', ' ').str.strip()\n",
    "demo_df['poverty_rate'] = demo_df['Percent below poverty level Population for whom poverty status is determined']\n",
    "\n",
    "tree_df = pd.read_csv('DecisionTree_RandomForest_Health_Predictions.csv')\n",
    "\n",
    "demo_df['borough'] = demo_df['Borough'].str.lower()\n",
    "tree_df['borough'] = tree_df['borough'].str.lower()\n",
    "\n",
    "merged_df = pd.merge(tree_df, demo_df, on=['census tract','borough'])\n",
    "\n",
    "label_encoder = LabelEncoder()\n",
    "merged_df['poverty_rate'] = pd.to_numeric(merged_df['poverty_rate'], errors='coerce')\n",
    "merged_df['health_encoded_dt'] = label_encoder.fit_transform(merged_df['dt_predicted_health'])\n",
    "merged_df['health_encoded_rf'] = label_encoder.fit_transform(merged_df['rf_predicted_health'])"
   ]
  },
  {
   "cell_type": "code",
   "execution_count": 18,
   "metadata": {},
   "outputs": [],
   "source": [
    "bins = [0,6.0,13.0,100.0]\n",
    "labels = ['Low', 'Medium', 'High']\n",
    "merged_df['poverty_category'] = pd.cut(merged_df['poverty_rate'], bins=bins, labels=labels)\n",
    "\n",
    "valid_indices = merged_df[['health_encoded_dt', 'health_encoded_rf', 'poverty_category']].dropna().index\n",
    "X = merged_df.loc[valid_indices, ['health_encoded_dt', 'health_encoded_rf']]\n",
    "y = merged_df.loc[valid_indices, 'poverty_category']\n",
    "\n",
    "X_train, X_test, y_train, y_test = train_test_split(X, y, test_size=0.3, random_state=42)"
   ]
  },
  {
   "cell_type": "code",
   "execution_count": 19,
   "metadata": {},
   "outputs": [
    {
     "name": "stdout",
     "output_type": "stream",
     "text": [
      "Accuracy: 0.4363197189284146\n",
      "Classification Report:\n",
      "               precision    recall  f1-score   support\n",
      "\n",
      "        High       0.65      0.58      0.61      5123\n",
      "         Low       0.22      0.62      0.32      1575\n",
      "      Medium       0.45      0.01      0.02      2410\n",
      "\n",
      "    accuracy                           0.44      9108\n",
      "   macro avg       0.44      0.40      0.32      9108\n",
      "weighted avg       0.52      0.44      0.41      9108\n",
      "\n",
      "             Feature  Importance\n",
      "1  health_encoded_rf    0.979457\n",
      "0  health_encoded_dt    0.020543\n"
     ]
    }
   ],
   "source": [
    "clf = DecisionTreeClassifier(random_state=42, max_depth=10, class_weight='balanced')\n",
    "clf.fit(X_train, y_train)\n",
    "\n",
    "y_pred = clf.predict(X_test)\n",
    "print(\"Accuracy:\", accuracy_score(y_test, y_pred))\n",
    "print(\"Classification Report:\\n\", classification_report(y_test, y_pred))\n",
    "\n",
    "importances = clf.feature_importances_\n",
    "feature_importance_df = pd.DataFrame({'Feature': X.columns, 'Importance': importances})\n",
    "feature_importance_df = feature_importance_df.sort_values(by='Importance', ascending=False)\n",
    "print(feature_importance_df)\n",
    "\n",
    "y_pred_all = clf.predict(X)\n",
    "merged_df.loc[valid_indices, 'dtfr_predicted_poverty'] = y_pred_all\n",
    "merged_df.to_csv('DecisionTree_Socioeconomic_Predictions.csv', index=False)\n"
   ]
  },
  {
   "cell_type": "code",
   "execution_count": 20,
   "metadata": {},
   "outputs": [
    {
     "name": "stdout",
     "output_type": "stream",
     "text": [
      "['High' 'Low' 'Medium']\n",
      "['High' 'Low' 'Medium']\n"
     ]
    }
   ],
   "source": [
    "print(np.unique(y_pred))\n",
    "print(np.unique(y_pred_all))"
   ]
  },
  {
   "cell_type": "code",
   "execution_count": 22,
   "metadata": {},
   "outputs": [
    {
     "name": "stdout",
     "output_type": "stream",
     "text": [
      "DT Mean Squared Error: 0.5653682520269943\n",
      "DT R^2 Score: 0.03132326956894871\n"
     ]
    }
   ],
   "source": [
    "#mse and r^2 calculations\n",
    "from sklearn.tree import DecisionTreeRegressor\n",
    "\n",
    "merged_df = merged_df.dropna(subset=['dtfr_predicted_poverty', 'health_encoded_dt', 'health_encoded_rf'])\n",
    "label_mapping = {'Low': 0, 'Medium': 1, 'High': 2}\n",
    "merged_df['status_numeric'] = merged_df['poverty_category'].map(label_mapping)\n",
    "\n",
    "y = merged_df['status_numeric']\n",
    "X = merged_df[['health_encoded_dt','health_encoded_rf']]\n",
    "\n",
    "X_train, X_test, y_train, y_test = train_test_split(X, y, test_size=0.3, random_state=42)\n",
    "\n",
    "reg = DecisionTreeRegressor(random_state=42, max_depth=10)\n",
    "reg.fit(X_train, y_train)\n",
    "\n",
    "y_pred = reg.predict(X_test)\n",
    "print(\"DT Mean Squared Error:\", mean_squared_error(y_test, y_pred))\n",
    "print(\"DT R^2 Score:\", r2_score(y_test, y_pred))"
   ]
  }
 ],
 "metadata": {
  "kernelspec": {
   "display_name": "Python 3",
   "language": "python",
   "name": "python3"
  },
  "language_info": {
   "codemirror_mode": {
    "name": "ipython",
    "version": 3
   },
   "file_extension": ".py",
   "mimetype": "text/x-python",
   "name": "python",
   "nbconvert_exporter": "python",
   "pygments_lexer": "ipython3",
   "version": "3.13.0"
  }
 },
 "nbformat": 4,
 "nbformat_minor": 2
}
