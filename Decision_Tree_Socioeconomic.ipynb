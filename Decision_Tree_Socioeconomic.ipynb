{
 "cells": [
  {
   "cell_type": "code",
   "execution_count": 34,
   "metadata": {},
   "outputs": [],
   "source": [
    "import pandas as pd\n",
    "import re\n",
    "import pandas as pd\n",
    "from sklearn.tree import DecisionTreeClassifier\n",
    "from sklearn.ensemble import RandomForestClassifier\n",
    "from sklearn.model_selection import train_test_split\n",
    "from sklearn.preprocessing import LabelEncoder\n",
    "from sklearn.metrics import accuracy_score, classification_report"
   ]
  },
  {
   "cell_type": "code",
   "execution_count": 35,
   "metadata": {},
   "outputs": [],
   "source": [
    "#load, clean, and merge data\n",
    "demo_df = pd.read_csv('Demographic_New_York_withborough_census_trackt.csv')\n",
    "demo_df['census tract'] = demo_df['Geographic Area Name'].apply(lambda x: re.findall(r'\\d+', x)[0])\n",
    "demo_df['census tract'] = demo_df['census tract'].astype(int)\n",
    "\n",
    "demo_df.columns = demo_df.columns.str.replace('!!Estimate!!', ' ').str.strip()\n",
    "demo_df['poverty_rate'] = demo_df['Percent below poverty level Population for whom poverty status is determined']\n",
    "\n",
    "tree_df = pd.read_csv('DecisionTree_RandomForest_Health_Predictions.csv')\n",
    "merged_df = pd.merge(tree_df, demo_df, on='census tract')\n",
    "\n",
    "label_encoder = LabelEncoder()\n",
    "merged_df['poverty_rate'] = pd.to_numeric(merged_df['poverty_rate'], errors='coerce')\n",
    "merged_df['health_encoded_dt'] = label_encoder.fit_transform(merged_df['dt_predicted_health'])\n",
    "merged_df['health_encoded_rf'] = label_encoder.fit_transform(merged_df['rf_predicted_health'])"
   ]
  },
  {
   "cell_type": "code",
   "execution_count": 36,
   "metadata": {},
   "outputs": [],
   "source": [
    "X = merged_df[['health_encoded_dt','health_encoded_rf']]\n",
    "y = merged_df['poverty_rate']\n",
    "\n",
    "bins = [0,6,13,100]\n",
    "labels = ['Low', 'Medium', 'High']\n",
    "merged_df['poverty_category'] = pd.cut(merged_df['poverty_rate'], bins=bins, labels=labels)\n",
    "\n",
    "valid_indices = merged_df[['health_encoded_dt', 'health_encoded_rf', 'poverty_category']].dropna().index\n",
    "X = merged_df.loc[valid_indices, ['health_encoded_dt', 'health_encoded_rf']]\n",
    "y = merged_df.loc[valid_indices, 'poverty_category']\n",
    "\n",
    "\n",
    "X_train, X_test, y_train, y_test = train_test_split(X, y, test_size=0.3, random_state=42)"
   ]
  },
  {
   "cell_type": "code",
   "execution_count": 38,
   "metadata": {},
   "outputs": [
    {
     "name": "stdout",
     "output_type": "stream",
     "text": [
      "Accuracy: 0.6011732605729877\n"
     ]
    },
    {
     "name": "stderr",
     "output_type": "stream",
     "text": [
      "c:\\Users\\archi_h340w2d\\AppData\\Local\\Programs\\Python\\Python313\\Lib\\site-packages\\sklearn\\metrics\\_classification.py:1531: UndefinedMetricWarning: Precision is ill-defined and being set to 0.0 in labels with no predicted samples. Use `zero_division` parameter to control this behavior.\n",
      "  _warn_prf(average, modifier, f\"{metric.capitalize()} is\", len(result))\n",
      "c:\\Users\\archi_h340w2d\\AppData\\Local\\Programs\\Python\\Python313\\Lib\\site-packages\\sklearn\\metrics\\_classification.py:1531: UndefinedMetricWarning: Precision is ill-defined and being set to 0.0 in labels with no predicted samples. Use `zero_division` parameter to control this behavior.\n",
      "  _warn_prf(average, modifier, f\"{metric.capitalize()} is\", len(result))\n",
      "c:\\Users\\archi_h340w2d\\AppData\\Local\\Programs\\Python\\Python313\\Lib\\site-packages\\sklearn\\metrics\\_classification.py:1531: UndefinedMetricWarning: Precision is ill-defined and being set to 0.0 in labels with no predicted samples. Use `zero_division` parameter to control this behavior.\n",
      "  _warn_prf(average, modifier, f\"{metric.capitalize()} is\", len(result))\n"
     ]
    },
    {
     "name": "stdout",
     "output_type": "stream",
     "text": [
      "Classification Report:\n",
      "               precision    recall  f1-score   support\n",
      "\n",
      "        High       0.60      1.00      0.75     22033\n",
      "         Low       0.00      0.00      0.00      4857\n",
      "      Medium       0.00      0.00      0.00      9760\n",
      "\n",
      "    accuracy                           0.60     36650\n",
      "   macro avg       0.20      0.33      0.25     36650\n",
      "weighted avg       0.36      0.60      0.45     36650\n",
      "\n",
      "             Feature  Importance\n",
      "1  health_encoded_rf    0.616699\n",
      "0  health_encoded_dt    0.383301\n"
     ]
    }
   ],
   "source": [
    "clf = DecisionTreeClassifier(random_state=42)\n",
    "clf.fit(X_train, y_train)\n",
    "\n",
    "y_pred = clf.predict(X_test)\n",
    "print(\"Accuracy:\", accuracy_score(y_test, y_pred))\n",
    "print(\"Classification Report:\\n\", classification_report(y_test, y_pred))\n",
    "\n",
    "importances = clf.feature_importances_\n",
    "feature_importance_df = pd.DataFrame({'Feature': X.columns, 'Importance': importances})\n",
    "feature_importance_df = feature_importance_df.sort_values(by='Importance', ascending=False)\n",
    "print(feature_importance_df)\n",
    "\n",
    "y_pred_all = clf.predict(X)\n",
    "merged_df.loc[valid_indices, 'dtfr_predicted_poverty'] = y_pred_all\n",
    "\n",
    "merged_df.to_csv('DecisionTree_Socioeconomic_Predictions.csv', index=False)\n"
   ]
  }
 ],
 "metadata": {
  "kernelspec": {
   "display_name": "Python 3",
   "language": "python",
   "name": "python3"
  },
  "language_info": {
   "codemirror_mode": {
    "name": "ipython",
    "version": 3
   },
   "file_extension": ".py",
   "mimetype": "text/x-python",
   "name": "python",
   "nbconvert_exporter": "python",
   "pygments_lexer": "ipython3",
   "version": "3.13.0"
  }
 },
 "nbformat": 4,
 "nbformat_minor": 2
}
