{
 "cells": [
  {
   "cell_type": "code",
   "execution_count": 16,
   "metadata": {},
   "outputs": [],
   "source": [
    "import pandas as pd\n",
    "\n",
    "df = pd.read_csv('Trees_Quantified.csv')\n",
    "df2 = pd.read_csv('ACSST5Y2016.S1701-Data.csv', header=1)"
   ]
  },
  {
   "cell_type": "code",
   "execution_count": 17,
   "metadata": {},
   "outputs": [
    {
     "data": {
      "text/plain": [
       "Geography                                                                          0400000US36\n",
       "Geographic Area Name                                                                  New York\n",
       "Total!!Estimate!!Population for whom poverty status is determined                     19186062\n",
       "Total!!Margin of Error!!Population for whom poverty status is determined                  2178\n",
       "Below poverty level!!Estimate!!Population for whom poverty status is determined        2967564\n",
       "                                                                                      ...     \n",
       "Below poverty level!!Estimate!!Did not work                                             668670\n",
       "Below poverty level!!Margin of Error!!Did not work                                        5821\n",
       "Percent below poverty level!!Estimate!!Did not work                                       47.2\n",
       "Percent below poverty level!!Margin of Error!!Did not work                                 0.3\n",
       "Unnamed: 368                                                                               NaN\n",
       "Name: 0, Length: 369, dtype: object"
      ]
     },
     "execution_count": 17,
     "metadata": {},
     "output_type": "execute_result"
    }
   ],
   "source": [
    "#remove top row of df2 \n",
    "df2.iloc[0]\n",
    "#df2 = df2.drop([0])\n",
    "#save 2nd row as dataframe and remove from df2\n"
   ]
  },
  {
   "cell_type": "code",
   "execution_count": 19,
   "metadata": {},
   "outputs": [
    {
     "data": {
      "text/html": [
       "<div>\n",
       "<style scoped>\n",
       "    .dataframe tbody tr th:only-of-type {\n",
       "        vertical-align: middle;\n",
       "    }\n",
       "\n",
       "    .dataframe tbody tr th {\n",
       "        vertical-align: top;\n",
       "    }\n",
       "\n",
       "    .dataframe thead th {\n",
       "        text-align: right;\n",
       "    }\n",
       "</style>\n",
       "<table border=\"1\" class=\"dataframe\">\n",
       "  <thead>\n",
       "    <tr style=\"text-align: right;\">\n",
       "      <th></th>\n",
       "      <th>Geography</th>\n",
       "      <th>Geographic Area Name</th>\n",
       "      <th>Total!!Estimate!!Population for whom poverty status is determined</th>\n",
       "      <th>Total!!Margin of Error!!Population for whom poverty status is determined</th>\n",
       "      <th>Below poverty level!!Estimate!!Population for whom poverty status is determined</th>\n",
       "      <th>Below poverty level!!Margin of Error!!Population for whom poverty status is determined</th>\n",
       "      <th>Percent below poverty level!!Estimate!!Population for whom poverty status is determined</th>\n",
       "      <th>Percent below poverty level!!Margin of Error!!Population for whom poverty status is determined</th>\n",
       "      <th>Total!!Estimate!!AGE!!Under 18 years</th>\n",
       "      <th>Total!!Margin of Error!!AGE!!Under 18 years</th>\n",
       "      <th>...</th>\n",
       "      <th>Below poverty level!!Margin of Error!!Worked less than full-time, year-round in the past 12 months</th>\n",
       "      <th>Percent below poverty level!!Estimate!!Worked less than full-time, year-round in the past 12 months</th>\n",
       "      <th>Percent below poverty level!!Margin of Error!!Worked less than full-time, year-round in the past 12 months</th>\n",
       "      <th>Total!!Estimate!!Did not work</th>\n",
       "      <th>Total!!Margin of Error!!Did not work</th>\n",
       "      <th>Below poverty level!!Estimate!!Did not work</th>\n",
       "      <th>Below poverty level!!Margin of Error!!Did not work</th>\n",
       "      <th>Percent below poverty level!!Estimate!!Did not work</th>\n",
       "      <th>Percent below poverty level!!Margin of Error!!Did not work</th>\n",
       "      <th>Unnamed: 368</th>\n",
       "    </tr>\n",
       "  </thead>\n",
       "  <tbody>\n",
       "    <tr>\n",
       "      <th>0</th>\n",
       "      <td>0400000US36</td>\n",
       "      <td>New York</td>\n",
       "      <td>19186062</td>\n",
       "      <td>2178</td>\n",
       "      <td>2967564</td>\n",
       "      <td>23686</td>\n",
       "      <td>15.5</td>\n",
       "      <td>0.1</td>\n",
       "      <td>4154193</td>\n",
       "      <td>2269</td>\n",
       "      <td>...</td>\n",
       "      <td>3697</td>\n",
       "      <td>34.3</td>\n",
       "      <td>0.4</td>\n",
       "      <td>1417595</td>\n",
       "      <td>6363</td>\n",
       "      <td>668670</td>\n",
       "      <td>5821</td>\n",
       "      <td>47.2</td>\n",
       "      <td>0.3</td>\n",
       "      <td>NaN</td>\n",
       "    </tr>\n",
       "  </tbody>\n",
       "</table>\n",
       "<p>1 rows × 369 columns</p>\n",
       "</div>"
      ],
      "text/plain": [
       "     Geography Geographic Area Name  \\\n",
       "0  0400000US36             New York   \n",
       "\n",
       "   Total!!Estimate!!Population for whom poverty status is determined  \\\n",
       "0                                           19186062                   \n",
       "\n",
       "   Total!!Margin of Error!!Population for whom poverty status is determined  \\\n",
       "0                                               2178                          \n",
       "\n",
       "   Below poverty level!!Estimate!!Population for whom poverty status is determined  \\\n",
       "0                                            2967564                                 \n",
       "\n",
       "   Below poverty level!!Margin of Error!!Population for whom poverty status is determined  \\\n",
       "0                                              23686                                        \n",
       "\n",
       "  Percent below poverty level!!Estimate!!Population for whom poverty status is determined  \\\n",
       "0                                               15.5                                        \n",
       "\n",
       "  Percent below poverty level!!Margin of Error!!Population for whom poverty status is determined  \\\n",
       "0                                                0.1                                               \n",
       "\n",
       "   Total!!Estimate!!AGE!!Under 18 years  \\\n",
       "0                               4154193   \n",
       "\n",
       "   Total!!Margin of Error!!AGE!!Under 18 years  ...  \\\n",
       "0                                         2269  ...   \n",
       "\n",
       "   Below poverty level!!Margin of Error!!Worked less than full-time, year-round in the past 12 months  \\\n",
       "0                                               3697                                                    \n",
       "\n",
       "   Percent below poverty level!!Estimate!!Worked less than full-time, year-round in the past 12 months  \\\n",
       "0                                               34.3                                                     \n",
       "\n",
       "  Percent below poverty level!!Margin of Error!!Worked less than full-time, year-round in the past 12 months  \\\n",
       "0                                                0.4                                                           \n",
       "\n",
       "  Total!!Estimate!!Did not work  Total!!Margin of Error!!Did not work  \\\n",
       "0                       1417595                                  6363   \n",
       "\n",
       "   Below poverty level!!Estimate!!Did not work  \\\n",
       "0                                       668670   \n",
       "\n",
       "   Below poverty level!!Margin of Error!!Did not work  \\\n",
       "0                                               5821    \n",
       "\n",
       "   Percent below poverty level!!Estimate!!Did not work  \\\n",
       "0                                               47.2     \n",
       "\n",
       "  Percent below poverty level!!Margin of Error!!Did not work Unnamed: 368  \n",
       "0                                                0.3                  NaN  \n",
       "\n",
       "[1 rows x 369 columns]"
      ]
     },
     "execution_count": 19,
     "metadata": {},
     "output_type": "execute_result"
    }
   ],
   "source": [
    "New_York_row = df2.iloc[0:1]\n",
    "New_York_row"
   ]
  },
  {
   "cell_type": "code",
   "execution_count": 20,
   "metadata": {},
   "outputs": [],
   "source": [
    "df2 = df2.drop([0])"
   ]
  },
  {
   "cell_type": "code",
   "execution_count": 28,
   "metadata": {},
   "outputs": [],
   "source": [
    "df2.head()\n",
    "column_list = df2.columns.tolist()\n",
    "column_list2 = df.columns.tolist()"
   ]
  },
  {
   "cell_type": "code",
   "execution_count": 26,
   "metadata": {},
   "outputs": [
    {
     "name": "stdout",
     "output_type": "stream",
     "text": [
      "369\n",
      "['Geography', 'Geographic Area Name', 'Total!!Estimate!!Population for whom poverty status is determined', 'Total!!Margin of Error!!Population for whom poverty status is determined', 'Below poverty level!!Estimate!!Population for whom poverty status is determined', 'Below poverty level!!Margin of Error!!Population for whom poverty status is determined', 'Percent below poverty level!!Estimate!!Population for whom poverty status is determined', 'Percent below poverty level!!Margin of Error!!Population for whom poverty status is determined', 'Total!!Estimate!!AGE!!Under 18 years', 'Total!!Margin of Error!!AGE!!Under 18 years', 'Below poverty level!!Estimate!!AGE!!Under 18 years', 'Below poverty level!!Margin of Error!!AGE!!Under 18 years', 'Percent below poverty level!!Estimate!!AGE!!Under 18 years', 'Percent below poverty level!!Margin of Error!!AGE!!Under 18 years', 'Total!!Estimate!!AGE!!Under 18 years!!Under 5 years', 'Total!!Margin of Error!!AGE!!Under 18 years!!Under 5 years', 'Below poverty level!!Estimate!!AGE!!Under 18 years!!Under 5 years', 'Below poverty level!!Margin of Error!!AGE!!Under 18 years!!Under 5 years', 'Percent below poverty level!!Estimate!!AGE!!Under 18 years!!Under 5 years', 'Percent below poverty level!!Margin of Error!!AGE!!Under 18 years!!Under 5 years', 'Total!!Estimate!!AGE!!Under 18 years!!5 to 17 years', 'Total!!Margin of Error!!AGE!!Under 18 years!!5 to 17 years', 'Below poverty level!!Estimate!!AGE!!Under 18 years!!5 to 17 years', 'Below poverty level!!Margin of Error!!AGE!!Under 18 years!!5 to 17 years', 'Percent below poverty level!!Estimate!!AGE!!Under 18 years!!5 to 17 years', 'Percent below poverty level!!Margin of Error!!AGE!!Under 18 years!!5 to 17 years', 'Total!!Estimate!!AGE!!Under 18 years!!Related children of householder under 18 years', 'Total!!Margin of Error!!AGE!!Under 18 years!!Related children of householder under 18 years', 'Below poverty level!!Estimate!!AGE!!Under 18 years!!Related children of householder under 18 years', 'Below poverty level!!Margin of Error!!AGE!!Under 18 years!!Related children of householder under 18 years', 'Percent below poverty level!!Estimate!!AGE!!Under 18 years!!Related children of householder under 18 years', 'Percent below poverty level!!Margin of Error!!AGE!!Under 18 years!!Related children of householder under 18 years', 'Total!!Estimate!!AGE!!18 to 64 years', 'Total!!Margin of Error!!AGE!!18 to 64 years', 'Below poverty level!!Estimate!!AGE!!18 to 64 years', 'Below poverty level!!Margin of Error!!AGE!!18 to 64 years', 'Percent below poverty level!!Estimate!!AGE!!18 to 64 years', 'Percent below poverty level!!Margin of Error!!AGE!!18 to 64 years', 'Total!!Estimate!!AGE!!18 to 64 years!!18 to 34 years', 'Total!!Margin of Error!!AGE!!18 to 64 years!!18 to 34 years', 'Below poverty level!!Estimate!!AGE!!18 to 64 years!!18 to 34 years', 'Below poverty level!!Margin of Error!!AGE!!18 to 64 years!!18 to 34 years', 'Percent below poverty level!!Estimate!!AGE!!18 to 64 years!!18 to 34 years', 'Percent below poverty level!!Margin of Error!!AGE!!18 to 64 years!!18 to 34 years', 'Total!!Estimate!!AGE!!18 to 64 years!!35 to 64 years', 'Total!!Margin of Error!!AGE!!18 to 64 years!!35 to 64 years', 'Below poverty level!!Estimate!!AGE!!18 to 64 years!!35 to 64 years', 'Below poverty level!!Margin of Error!!AGE!!18 to 64 years!!35 to 64 years', 'Percent below poverty level!!Estimate!!AGE!!18 to 64 years!!35 to 64 years', 'Percent below poverty level!!Margin of Error!!AGE!!18 to 64 years!!35 to 64 years', 'Total!!Estimate!!AGE!!60 years and over', 'Total!!Margin of Error!!AGE!!60 years and over', 'Below poverty level!!Estimate!!AGE!!60 years and over', 'Below poverty level!!Margin of Error!!AGE!!60 years and over', 'Percent below poverty level!!Estimate!!AGE!!60 years and over', 'Percent below poverty level!!Margin of Error!!AGE!!60 years and over', 'Total!!Estimate!!AGE!!65 years and over', 'Total!!Margin of Error!!AGE!!65 years and over', 'Below poverty level!!Estimate!!AGE!!65 years and over', 'Below poverty level!!Margin of Error!!AGE!!65 years and over', 'Percent below poverty level!!Estimate!!AGE!!65 years and over', 'Percent below poverty level!!Margin of Error!!AGE!!65 years and over', 'Total!!Estimate!!SEX!!Male', 'Total!!Margin of Error!!SEX!!Male', 'Below poverty level!!Estimate!!SEX!!Male', 'Below poverty level!!Margin of Error!!SEX!!Male', 'Percent below poverty level!!Estimate!!SEX!!Male', 'Percent below poverty level!!Margin of Error!!SEX!!Male', 'Total!!Estimate!!SEX!!Female', 'Total!!Margin of Error!!SEX!!Female', 'Below poverty level!!Estimate!!SEX!!Female', 'Below poverty level!!Margin of Error!!SEX!!Female', 'Percent below poverty level!!Estimate!!SEX!!Female', 'Percent below poverty level!!Margin of Error!!SEX!!Female', 'Total!!Estimate!!RACE AND HISPANIC OR LATINO ORIGIN!!White alone', 'Total!!Margin of Error!!RACE AND HISPANIC OR LATINO ORIGIN!!White alone', 'Below poverty level!!Estimate!!RACE AND HISPANIC OR LATINO ORIGIN!!White alone', 'Below poverty level!!Margin of Error!!RACE AND HISPANIC OR LATINO ORIGIN!!White alone', 'Percent below poverty level!!Estimate!!RACE AND HISPANIC OR LATINO ORIGIN!!White alone', 'Percent below poverty level!!Margin of Error!!RACE AND HISPANIC OR LATINO ORIGIN!!White alone', 'Total!!Estimate!!RACE AND HISPANIC OR LATINO ORIGIN!!Black or African American alone', 'Total!!Margin of Error!!RACE AND HISPANIC OR LATINO ORIGIN!!Black or African American alone', 'Below poverty level!!Estimate!!RACE AND HISPANIC OR LATINO ORIGIN!!Black or African American alone', 'Below poverty level!!Margin of Error!!RACE AND HISPANIC OR LATINO ORIGIN!!Black or African American alone', 'Percent below poverty level!!Estimate!!RACE AND HISPANIC OR LATINO ORIGIN!!Black or African American alone', 'Percent below poverty level!!Margin of Error!!RACE AND HISPANIC OR LATINO ORIGIN!!Black or African American alone', 'Total!!Estimate!!RACE AND HISPANIC OR LATINO ORIGIN!!American Indian and Alaska Native alone', 'Total!!Margin of Error!!RACE AND HISPANIC OR LATINO ORIGIN!!American Indian and Alaska Native alone', 'Below poverty level!!Estimate!!RACE AND HISPANIC OR LATINO ORIGIN!!American Indian and Alaska Native alone', 'Below poverty level!!Margin of Error!!RACE AND HISPANIC OR LATINO ORIGIN!!American Indian and Alaska Native alone', 'Percent below poverty level!!Estimate!!RACE AND HISPANIC OR LATINO ORIGIN!!American Indian and Alaska Native alone', 'Percent below poverty level!!Margin of Error!!RACE AND HISPANIC OR LATINO ORIGIN!!American Indian and Alaska Native alone', 'Total!!Estimate!!RACE AND HISPANIC OR LATINO ORIGIN!!Asian alone', 'Total!!Margin of Error!!RACE AND HISPANIC OR LATINO ORIGIN!!Asian alone', 'Below poverty level!!Estimate!!RACE AND HISPANIC OR LATINO ORIGIN!!Asian alone', 'Below poverty level!!Margin of Error!!RACE AND HISPANIC OR LATINO ORIGIN!!Asian alone', 'Percent below poverty level!!Estimate!!RACE AND HISPANIC OR LATINO ORIGIN!!Asian alone', 'Percent below poverty level!!Margin of Error!!RACE AND HISPANIC OR LATINO ORIGIN!!Asian alone', 'Total!!Estimate!!RACE AND HISPANIC OR LATINO ORIGIN!!Native Hawaiian and Other Pacific Islander alone', 'Total!!Margin of Error!!RACE AND HISPANIC OR LATINO ORIGIN!!Native Hawaiian and Other Pacific Islander alone', 'Below poverty level!!Estimate!!RACE AND HISPANIC OR LATINO ORIGIN!!Native Hawaiian and Other Pacific Islander alone', 'Below poverty level!!Margin of Error!!RACE AND HISPANIC OR LATINO ORIGIN!!Native Hawaiian and Other Pacific Islander alone', 'Percent below poverty level!!Estimate!!RACE AND HISPANIC OR LATINO ORIGIN!!Native Hawaiian and Other Pacific Islander alone', 'Percent below poverty level!!Margin of Error!!RACE AND HISPANIC OR LATINO ORIGIN!!Native Hawaiian and Other Pacific Islander alone', 'Total!!Estimate!!RACE AND HISPANIC OR LATINO ORIGIN!!Some other race alone', 'Total!!Margin of Error!!RACE AND HISPANIC OR LATINO ORIGIN!!Some other race alone', 'Below poverty level!!Estimate!!RACE AND HISPANIC OR LATINO ORIGIN!!Some other race alone', 'Below poverty level!!Margin of Error!!RACE AND HISPANIC OR LATINO ORIGIN!!Some other race alone', 'Percent below poverty level!!Estimate!!RACE AND HISPANIC OR LATINO ORIGIN!!Some other race alone', 'Percent below poverty level!!Margin of Error!!RACE AND HISPANIC OR LATINO ORIGIN!!Some other race alone', 'Total!!Estimate!!RACE AND HISPANIC OR LATINO ORIGIN!!Two or more races', 'Total!!Margin of Error!!RACE AND HISPANIC OR LATINO ORIGIN!!Two or more races', 'Below poverty level!!Estimate!!RACE AND HISPANIC OR LATINO ORIGIN!!Two or more races', 'Below poverty level!!Margin of Error!!RACE AND HISPANIC OR LATINO ORIGIN!!Two or more races', 'Percent below poverty level!!Estimate!!RACE AND HISPANIC OR LATINO ORIGIN!!Two or more races', 'Percent below poverty level!!Margin of Error!!RACE AND HISPANIC OR LATINO ORIGIN!!Two or more races', 'Total!!Estimate!!Hispanic or Latino origin (of any race)', 'Total!!Margin of Error!!Hispanic or Latino origin (of any race)', 'Below poverty level!!Estimate!!Hispanic or Latino origin (of any race)', 'Below poverty level!!Margin of Error!!Hispanic or Latino origin (of any race)', 'Percent below poverty level!!Estimate!!Hispanic or Latino origin (of any race)', 'Percent below poverty level!!Margin of Error!!Hispanic or Latino origin (of any race)', 'Total!!Estimate!!White alone, not Hispanic or Latino', 'Total!!Margin of Error!!White alone, not Hispanic or Latino', 'Below poverty level!!Estimate!!White alone, not Hispanic or Latino', 'Below poverty level!!Margin of Error!!White alone, not Hispanic or Latino', 'Percent below poverty level!!Estimate!!White alone, not Hispanic or Latino', 'Percent below poverty level!!Margin of Error!!White alone, not Hispanic or Latino', 'Total!!Estimate!!EDUCATIONAL ATTAINMENT!!Population 25 years and over', 'Total!!Margin of Error!!EDUCATIONAL ATTAINMENT!!Population 25 years and over', 'Below poverty level!!Estimate!!EDUCATIONAL ATTAINMENT!!Population 25 years and over', 'Below poverty level!!Margin of Error!!EDUCATIONAL ATTAINMENT!!Population 25 years and over', 'Percent below poverty level!!Estimate!!EDUCATIONAL ATTAINMENT!!Population 25 years and over', 'Percent below poverty level!!Margin of Error!!EDUCATIONAL ATTAINMENT!!Population 25 years and over', 'Total!!Estimate!!EDUCATIONAL ATTAINMENT!!Population 25 years and over!!Less than high school graduate', 'Total!!Margin of Error!!EDUCATIONAL ATTAINMENT!!Population 25 years and over!!Less than high school graduate', 'Below poverty level!!Estimate!!EDUCATIONAL ATTAINMENT!!Population 25 years and over!!Less than high school graduate', 'Below poverty level!!Margin of Error!!EDUCATIONAL ATTAINMENT!!Population 25 years and over!!Less than high school graduate', 'Percent below poverty level!!Estimate!!EDUCATIONAL ATTAINMENT!!Population 25 years and over!!Less than high school graduate', 'Percent below poverty level!!Margin of Error!!EDUCATIONAL ATTAINMENT!!Population 25 years and over!!Less than high school graduate', 'Total!!Estimate!!EDUCATIONAL ATTAINMENT!!Population 25 years and over!!High school graduate (includes equivalency)', 'Total!!Margin of Error!!EDUCATIONAL ATTAINMENT!!Population 25 years and over!!High school graduate (includes equivalency)', 'Below poverty level!!Estimate!!EDUCATIONAL ATTAINMENT!!Population 25 years and over!!High school graduate (includes equivalency)', 'Below poverty level!!Margin of Error!!EDUCATIONAL ATTAINMENT!!Population 25 years and over!!High school graduate (includes equivalency)', 'Percent below poverty level!!Estimate!!EDUCATIONAL ATTAINMENT!!Population 25 years and over!!High school graduate (includes equivalency)', 'Percent below poverty level!!Margin of Error!!EDUCATIONAL ATTAINMENT!!Population 25 years and over!!High school graduate (includes equivalency)', \"Total!!Estimate!!EDUCATIONAL ATTAINMENT!!Population 25 years and over!!Some college, associate's degree\", \"Total!!Margin of Error!!EDUCATIONAL ATTAINMENT!!Population 25 years and over!!Some college, associate's degree\", \"Below poverty level!!Estimate!!EDUCATIONAL ATTAINMENT!!Population 25 years and over!!Some college, associate's degree\", \"Below poverty level!!Margin of Error!!EDUCATIONAL ATTAINMENT!!Population 25 years and over!!Some college, associate's degree\", \"Percent below poverty level!!Estimate!!EDUCATIONAL ATTAINMENT!!Population 25 years and over!!Some college, associate's degree\", \"Percent below poverty level!!Margin of Error!!EDUCATIONAL ATTAINMENT!!Population 25 years and over!!Some college, associate's degree\", \"Total!!Estimate!!EDUCATIONAL ATTAINMENT!!Population 25 years and over!!Bachelor's degree or higher\", \"Total!!Margin of Error!!EDUCATIONAL ATTAINMENT!!Population 25 years and over!!Bachelor's degree or higher\", \"Below poverty level!!Estimate!!EDUCATIONAL ATTAINMENT!!Population 25 years and over!!Bachelor's degree or higher\", \"Below poverty level!!Margin of Error!!EDUCATIONAL ATTAINMENT!!Population 25 years and over!!Bachelor's degree or higher\", \"Percent below poverty level!!Estimate!!EDUCATIONAL ATTAINMENT!!Population 25 years and over!!Bachelor's degree or higher\", \"Percent below poverty level!!Margin of Error!!EDUCATIONAL ATTAINMENT!!Population 25 years and over!!Bachelor's degree or higher\", 'Total!!Estimate!!EMPLOYMENT STATUS!!Civilian labor force 16 years and over', 'Total!!Margin of Error!!EMPLOYMENT STATUS!!Civilian labor force 16 years and over', 'Below poverty level!!Estimate!!EMPLOYMENT STATUS!!Civilian labor force 16 years and over', 'Below poverty level!!Margin of Error!!EMPLOYMENT STATUS!!Civilian labor force 16 years and over', 'Percent below poverty level!!Estimate!!EMPLOYMENT STATUS!!Civilian labor force 16 years and over', 'Percent below poverty level!!Margin of Error!!EMPLOYMENT STATUS!!Civilian labor force 16 years and over', 'Total!!Estimate!!EMPLOYMENT STATUS!!Civilian labor force 16 years and over!!Employed', 'Total!!Margin of Error!!EMPLOYMENT STATUS!!Civilian labor force 16 years and over!!Employed', 'Below poverty level!!Estimate!!EMPLOYMENT STATUS!!Civilian labor force 16 years and over!!Employed', 'Below poverty level!!Margin of Error!!EMPLOYMENT STATUS!!Civilian labor force 16 years and over!!Employed', 'Percent below poverty level!!Estimate!!EMPLOYMENT STATUS!!Civilian labor force 16 years and over!!Employed', 'Percent below poverty level!!Margin of Error!!EMPLOYMENT STATUS!!Civilian labor force 16 years and over!!Employed', 'Total!!Estimate!!EMPLOYMENT STATUS!!Civilian labor force 16 years and over!!Employed!!Male', 'Total!!Margin of Error!!EMPLOYMENT STATUS!!Civilian labor force 16 years and over!!Employed!!Male', 'Below poverty level!!Estimate!!EMPLOYMENT STATUS!!Civilian labor force 16 years and over!!Employed!!Male', 'Below poverty level!!Margin of Error!!EMPLOYMENT STATUS!!Civilian labor force 16 years and over!!Employed!!Male', 'Percent below poverty level!!Estimate!!EMPLOYMENT STATUS!!Civilian labor force 16 years and over!!Employed!!Male', 'Percent below poverty level!!Margin of Error!!EMPLOYMENT STATUS!!Civilian labor force 16 years and over!!Employed!!Male', 'Total!!Estimate!!EMPLOYMENT STATUS!!Civilian labor force 16 years and over!!Employed!!Female', 'Total!!Margin of Error!!EMPLOYMENT STATUS!!Civilian labor force 16 years and over!!Employed!!Female', 'Below poverty level!!Estimate!!EMPLOYMENT STATUS!!Civilian labor force 16 years and over!!Employed!!Female', 'Below poverty level!!Margin of Error!!EMPLOYMENT STATUS!!Civilian labor force 16 years and over!!Employed!!Female', 'Percent below poverty level!!Estimate!!EMPLOYMENT STATUS!!Civilian labor force 16 years and over!!Employed!!Female', 'Percent below poverty level!!Margin of Error!!EMPLOYMENT STATUS!!Civilian labor force 16 years and over!!Employed!!Female', 'Total!!Estimate!!EMPLOYMENT STATUS!!Civilian labor force 16 years and over!!Unemployed', 'Total!!Margin of Error!!EMPLOYMENT STATUS!!Civilian labor force 16 years and over!!Unemployed', 'Below poverty level!!Estimate!!EMPLOYMENT STATUS!!Civilian labor force 16 years and over!!Unemployed', 'Below poverty level!!Margin of Error!!EMPLOYMENT STATUS!!Civilian labor force 16 years and over!!Unemployed', 'Percent below poverty level!!Estimate!!EMPLOYMENT STATUS!!Civilian labor force 16 years and over!!Unemployed', 'Percent below poverty level!!Margin of Error!!EMPLOYMENT STATUS!!Civilian labor force 16 years and over!!Unemployed', 'Total!!Estimate!!EMPLOYMENT STATUS!!Civilian labor force 16 years and over!!Unemployed!!Male', 'Total!!Margin of Error!!EMPLOYMENT STATUS!!Civilian labor force 16 years and over!!Unemployed!!Male', 'Below poverty level!!Estimate!!EMPLOYMENT STATUS!!Civilian labor force 16 years and over!!Unemployed!!Male', 'Below poverty level!!Margin of Error!!EMPLOYMENT STATUS!!Civilian labor force 16 years and over!!Unemployed!!Male', 'Percent below poverty level!!Estimate!!EMPLOYMENT STATUS!!Civilian labor force 16 years and over!!Unemployed!!Male', 'Percent below poverty level!!Margin of Error!!EMPLOYMENT STATUS!!Civilian labor force 16 years and over!!Unemployed!!Male', 'Total!!Estimate!!EMPLOYMENT STATUS!!Civilian labor force 16 years and over!!Unemployed!!Female', 'Total!!Margin of Error!!EMPLOYMENT STATUS!!Civilian labor force 16 years and over!!Unemployed!!Female', 'Below poverty level!!Estimate!!EMPLOYMENT STATUS!!Civilian labor force 16 years and over!!Unemployed!!Female', 'Below poverty level!!Margin of Error!!EMPLOYMENT STATUS!!Civilian labor force 16 years and over!!Unemployed!!Female', 'Percent below poverty level!!Estimate!!EMPLOYMENT STATUS!!Civilian labor force 16 years and over!!Unemployed!!Female', 'Percent below poverty level!!Margin of Error!!EMPLOYMENT STATUS!!Civilian labor force 16 years and over!!Unemployed!!Female', 'Total!!Estimate!!WORK EXPERIENCE!!Population 16 years and over', 'Total!!Margin of Error!!WORK EXPERIENCE!!Population 16 years and over', 'Below poverty level!!Estimate!!WORK EXPERIENCE!!Population 16 years and over', 'Below poverty level!!Margin of Error!!WORK EXPERIENCE!!Population 16 years and over', 'Percent below poverty level!!Estimate!!WORK EXPERIENCE!!Population 16 years and over', 'Percent below poverty level!!Margin of Error!!WORK EXPERIENCE!!Population 16 years and over', 'Total!!Estimate!!WORK EXPERIENCE!!Population 16 years and over!!Worked full-time, year-round in the past 12 months', 'Total!!Margin of Error!!WORK EXPERIENCE!!Population 16 years and over!!Worked full-time, year-round in the past 12 months', 'Below poverty level!!Estimate!!WORK EXPERIENCE!!Population 16 years and over!!Worked full-time, year-round in the past 12 months', 'Below poverty level!!Margin of Error!!WORK EXPERIENCE!!Population 16 years and over!!Worked full-time, year-round in the past 12 months', 'Percent below poverty level!!Estimate!!WORK EXPERIENCE!!Population 16 years and over!!Worked full-time, year-round in the past 12 months', 'Percent below poverty level!!Margin of Error!!WORK EXPERIENCE!!Population 16 years and over!!Worked full-time, year-round in the past 12 months', 'Total!!Estimate!!WORK EXPERIENCE!!Population 16 years and over!!Worked part-time or part-year in the past 12 months', 'Total!!Margin of Error!!WORK EXPERIENCE!!Population 16 years and over!!Worked part-time or part-year in the past 12 months', 'Below poverty level!!Estimate!!WORK EXPERIENCE!!Population 16 years and over!!Worked part-time or part-year in the past 12 months', 'Below poverty level!!Margin of Error!!WORK EXPERIENCE!!Population 16 years and over!!Worked part-time or part-year in the past 12 months', 'Percent below poverty level!!Estimate!!WORK EXPERIENCE!!Population 16 years and over!!Worked part-time or part-year in the past 12 months', 'Percent below poverty level!!Margin of Error!!WORK EXPERIENCE!!Population 16 years and over!!Worked part-time or part-year in the past 12 months', 'Total!!Estimate!!WORK EXPERIENCE!!Population 16 years and over!!Did not work', 'Total!!Margin of Error!!WORK EXPERIENCE!!Population 16 years and over!!Did not work', 'Below poverty level!!Estimate!!WORK EXPERIENCE!!Population 16 years and over!!Did not work', 'Below poverty level!!Margin of Error!!WORK EXPERIENCE!!Population 16 years and over!!Did not work', 'Percent below poverty level!!Estimate!!WORK EXPERIENCE!!Population 16 years and over!!Did not work', 'Percent below poverty level!!Margin of Error!!WORK EXPERIENCE!!Population 16 years and over!!Did not work', 'Total!!Estimate!!ALL INDIVIDUALS WITH INCOME BELOW THE FOLLOWING POVERTY RATIOS!!50 percent of poverty level', 'Total!!Margin of Error!!ALL INDIVIDUALS WITH INCOME BELOW THE FOLLOWING POVERTY RATIOS!!50 percent of poverty level', 'Below poverty level!!Estimate!!ALL INDIVIDUALS WITH INCOME BELOW THE FOLLOWING POVERTY RATIOS!!50 percent of poverty level', 'Below poverty level!!Margin of Error!!ALL INDIVIDUALS WITH INCOME BELOW THE FOLLOWING POVERTY RATIOS!!50 percent of poverty level', 'Percent below poverty level!!Estimate!!ALL INDIVIDUALS WITH INCOME BELOW THE FOLLOWING POVERTY RATIOS!!50 percent of poverty level', 'Percent below poverty level!!Margin of Error!!ALL INDIVIDUALS WITH INCOME BELOW THE FOLLOWING POVERTY RATIOS!!50 percent of poverty level', 'Total!!Estimate!!ALL INDIVIDUALS WITH INCOME BELOW THE FOLLOWING POVERTY RATIOS!!125 percent of poverty level', 'Total!!Margin of Error!!ALL INDIVIDUALS WITH INCOME BELOW THE FOLLOWING POVERTY RATIOS!!125 percent of poverty level', 'Below poverty level!!Estimate!!ALL INDIVIDUALS WITH INCOME BELOW THE FOLLOWING POVERTY RATIOS!!125 percent of poverty level', 'Below poverty level!!Margin of Error!!ALL INDIVIDUALS WITH INCOME BELOW THE FOLLOWING POVERTY RATIOS!!125 percent of poverty level', 'Percent below poverty level!!Estimate!!ALL INDIVIDUALS WITH INCOME BELOW THE FOLLOWING POVERTY RATIOS!!125 percent of poverty level', 'Percent below poverty level!!Margin of Error!!ALL INDIVIDUALS WITH INCOME BELOW THE FOLLOWING POVERTY RATIOS!!125 percent of poverty level', 'Total!!Estimate!!ALL INDIVIDUALS WITH INCOME BELOW THE FOLLOWING POVERTY RATIOS!!150 percent of poverty level', 'Total!!Margin of Error!!ALL INDIVIDUALS WITH INCOME BELOW THE FOLLOWING POVERTY RATIOS!!150 percent of poverty level', 'Below poverty level!!Estimate!!ALL INDIVIDUALS WITH INCOME BELOW THE FOLLOWING POVERTY RATIOS!!150 percent of poverty level', 'Below poverty level!!Margin of Error!!ALL INDIVIDUALS WITH INCOME BELOW THE FOLLOWING POVERTY RATIOS!!150 percent of poverty level', 'Percent below poverty level!!Estimate!!ALL INDIVIDUALS WITH INCOME BELOW THE FOLLOWING POVERTY RATIOS!!150 percent of poverty level', 'Percent below poverty level!!Margin of Error!!ALL INDIVIDUALS WITH INCOME BELOW THE FOLLOWING POVERTY RATIOS!!150 percent of poverty level', 'Total!!Estimate!!ALL INDIVIDUALS WITH INCOME BELOW THE FOLLOWING POVERTY RATIOS!!185 percent of poverty level', 'Total!!Margin of Error!!ALL INDIVIDUALS WITH INCOME BELOW THE FOLLOWING POVERTY RATIOS!!185 percent of poverty level', 'Below poverty level!!Estimate!!ALL INDIVIDUALS WITH INCOME BELOW THE FOLLOWING POVERTY RATIOS!!185 percent of poverty level', 'Below poverty level!!Margin of Error!!ALL INDIVIDUALS WITH INCOME BELOW THE FOLLOWING POVERTY RATIOS!!185 percent of poverty level', 'Percent below poverty level!!Estimate!!ALL INDIVIDUALS WITH INCOME BELOW THE FOLLOWING POVERTY RATIOS!!185 percent of poverty level', 'Percent below poverty level!!Margin of Error!!ALL INDIVIDUALS WITH INCOME BELOW THE FOLLOWING POVERTY RATIOS!!185 percent of poverty level', 'Total!!Estimate!!ALL INDIVIDUALS WITH INCOME BELOW THE FOLLOWING POVERTY RATIOS!!200 percent of poverty level', 'Total!!Margin of Error!!ALL INDIVIDUALS WITH INCOME BELOW THE FOLLOWING POVERTY RATIOS!!200 percent of poverty level', 'Below poverty level!!Estimate!!ALL INDIVIDUALS WITH INCOME BELOW THE FOLLOWING POVERTY RATIOS!!200 percent of poverty level', 'Below poverty level!!Margin of Error!!ALL INDIVIDUALS WITH INCOME BELOW THE FOLLOWING POVERTY RATIOS!!200 percent of poverty level', 'Percent below poverty level!!Estimate!!ALL INDIVIDUALS WITH INCOME BELOW THE FOLLOWING POVERTY RATIOS!!200 percent of poverty level', 'Percent below poverty level!!Margin of Error!!ALL INDIVIDUALS WITH INCOME BELOW THE FOLLOWING POVERTY RATIOS!!200 percent of poverty level', 'Total!!Estimate!!ALL INDIVIDUALS WITH INCOME BELOW THE FOLLOWING POVERTY RATIOS!!300 percent of poverty level', 'Total!!Margin of Error!!ALL INDIVIDUALS WITH INCOME BELOW THE FOLLOWING POVERTY RATIOS!!300 percent of poverty level', 'Below poverty level!!Estimate!!ALL INDIVIDUALS WITH INCOME BELOW THE FOLLOWING POVERTY RATIOS!!300 percent of poverty level', 'Below poverty level!!Margin of Error!!ALL INDIVIDUALS WITH INCOME BELOW THE FOLLOWING POVERTY RATIOS!!300 percent of poverty level', 'Percent below poverty level!!Estimate!!ALL INDIVIDUALS WITH INCOME BELOW THE FOLLOWING POVERTY RATIOS!!300 percent of poverty level', 'Percent below poverty level!!Margin of Error!!ALL INDIVIDUALS WITH INCOME BELOW THE FOLLOWING POVERTY RATIOS!!300 percent of poverty level', 'Total!!Estimate!!ALL INDIVIDUALS WITH INCOME BELOW THE FOLLOWING POVERTY RATIOS!!400 percent of poverty level', 'Total!!Margin of Error!!ALL INDIVIDUALS WITH INCOME BELOW THE FOLLOWING POVERTY RATIOS!!400 percent of poverty level', 'Below poverty level!!Estimate!!ALL INDIVIDUALS WITH INCOME BELOW THE FOLLOWING POVERTY RATIOS!!400 percent of poverty level', 'Below poverty level!!Margin of Error!!ALL INDIVIDUALS WITH INCOME BELOW THE FOLLOWING POVERTY RATIOS!!400 percent of poverty level', 'Percent below poverty level!!Estimate!!ALL INDIVIDUALS WITH INCOME BELOW THE FOLLOWING POVERTY RATIOS!!400 percent of poverty level', 'Percent below poverty level!!Margin of Error!!ALL INDIVIDUALS WITH INCOME BELOW THE FOLLOWING POVERTY RATIOS!!400 percent of poverty level', 'Total!!Estimate!!ALL INDIVIDUALS WITH INCOME BELOW THE FOLLOWING POVERTY RATIOS!!500 percent of poverty level', 'Total!!Margin of Error!!ALL INDIVIDUALS WITH INCOME BELOW THE FOLLOWING POVERTY RATIOS!!500 percent of poverty level', 'Below poverty level!!Estimate!!ALL INDIVIDUALS WITH INCOME BELOW THE FOLLOWING POVERTY RATIOS!!500 percent of poverty level', 'Below poverty level!!Margin of Error!!ALL INDIVIDUALS WITH INCOME BELOW THE FOLLOWING POVERTY RATIOS!!500 percent of poverty level', 'Percent below poverty level!!Estimate!!ALL INDIVIDUALS WITH INCOME BELOW THE FOLLOWING POVERTY RATIOS!!500 percent of poverty level', 'Percent below poverty level!!Margin of Error!!ALL INDIVIDUALS WITH INCOME BELOW THE FOLLOWING POVERTY RATIOS!!500 percent of poverty level', 'Total!!Estimate!!UNRELATED INDIVIDUALS FOR WHOM POVERTY STATUS IS DETERMINED', 'Total!!Margin of Error!!UNRELATED INDIVIDUALS FOR WHOM POVERTY STATUS IS DETERMINED', 'Below poverty level!!Estimate!!UNRELATED INDIVIDUALS FOR WHOM POVERTY STATUS IS DETERMINED', 'Below poverty level!!Margin of Error!!UNRELATED INDIVIDUALS FOR WHOM POVERTY STATUS IS DETERMINED', 'Percent below poverty level!!Estimate!!UNRELATED INDIVIDUALS FOR WHOM POVERTY STATUS IS DETERMINED', 'Percent below poverty level!!Margin of Error!!UNRELATED INDIVIDUALS FOR WHOM POVERTY STATUS IS DETERMINED', 'Total!!Estimate!!UNRELATED INDIVIDUALS FOR WHOM POVERTY STATUS IS DETERMINED!!Male', 'Total!!Margin of Error!!UNRELATED INDIVIDUALS FOR WHOM POVERTY STATUS IS DETERMINED!!Male', 'Below poverty level!!Estimate!!UNRELATED INDIVIDUALS FOR WHOM POVERTY STATUS IS DETERMINED!!Male', 'Below poverty level!!Margin of Error!!UNRELATED INDIVIDUALS FOR WHOM POVERTY STATUS IS DETERMINED!!Male', 'Percent below poverty level!!Estimate!!UNRELATED INDIVIDUALS FOR WHOM POVERTY STATUS IS DETERMINED!!Male', 'Percent below poverty level!!Margin of Error!!UNRELATED INDIVIDUALS FOR WHOM POVERTY STATUS IS DETERMINED!!Male', 'Total!!Estimate!!UNRELATED INDIVIDUALS FOR WHOM POVERTY STATUS IS DETERMINED!!Female', 'Total!!Margin of Error!!UNRELATED INDIVIDUALS FOR WHOM POVERTY STATUS IS DETERMINED!!Female', 'Below poverty level!!Estimate!!UNRELATED INDIVIDUALS FOR WHOM POVERTY STATUS IS DETERMINED!!Female', 'Below poverty level!!Margin of Error!!UNRELATED INDIVIDUALS FOR WHOM POVERTY STATUS IS DETERMINED!!Female', 'Percent below poverty level!!Estimate!!UNRELATED INDIVIDUALS FOR WHOM POVERTY STATUS IS DETERMINED!!Female', 'Percent below poverty level!!Margin of Error!!UNRELATED INDIVIDUALS FOR WHOM POVERTY STATUS IS DETERMINED!!Female', 'Total!!Estimate!!15 years', 'Total!!Margin of Error!!15 years', 'Below poverty level!!Estimate!!15 years', 'Below poverty level!!Margin of Error!!15 years', 'Percent below poverty level!!Estimate!!15 years', 'Percent below poverty level!!Margin of Error!!15 years', 'Total!!Estimate!!16 to 17 years', 'Total!!Margin of Error!!16 to 17 years', 'Below poverty level!!Estimate!!16 to 17 years', 'Below poverty level!!Margin of Error!!16 to 17 years', 'Percent below poverty level!!Estimate!!16 to 17 years', 'Percent below poverty level!!Margin of Error!!16 to 17 years', 'Total!!Estimate!!18 to 24 years', 'Total!!Margin of Error!!18 to 24 years', 'Below poverty level!!Estimate!!18 to 24 years', 'Below poverty level!!Margin of Error!!18 to 24 years', 'Percent below poverty level!!Estimate!!18 to 24 years', 'Percent below poverty level!!Margin of Error!!18 to 24 years', 'Total!!Estimate!!25 to 34 years', 'Total!!Margin of Error!!25 to 34 years', 'Below poverty level!!Estimate!!25 to 34 years', 'Below poverty level!!Margin of Error!!25 to 34 years', 'Percent below poverty level!!Estimate!!25 to 34 years', 'Percent below poverty level!!Margin of Error!!25 to 34 years', 'Total!!Estimate!!35 to 44 years', 'Total!!Margin of Error!!35 to 44 years', 'Below poverty level!!Estimate!!35 to 44 years', 'Below poverty level!!Margin of Error!!35 to 44 years', 'Percent below poverty level!!Estimate!!35 to 44 years', 'Percent below poverty level!!Margin of Error!!35 to 44 years', 'Total!!Estimate!!45 to 54 years', 'Total!!Margin of Error!!45 to 54 years', 'Below poverty level!!Estimate!!45 to 54 years', 'Below poverty level!!Margin of Error!!45 to 54 years', 'Percent below poverty level!!Estimate!!45 to 54 years', 'Percent below poverty level!!Margin of Error!!45 to 54 years', 'Total!!Estimate!!55 to 64 years', 'Total!!Margin of Error!!55 to 64 years', 'Below poverty level!!Estimate!!55 to 64 years', 'Below poverty level!!Margin of Error!!55 to 64 years', 'Percent below poverty level!!Estimate!!55 to 64 years', 'Percent below poverty level!!Margin of Error!!55 to 64 years', 'Total!!Estimate!!65 to 74 years', 'Total!!Margin of Error!!65 to 74 years', 'Below poverty level!!Estimate!!65 to 74 years', 'Below poverty level!!Margin of Error!!65 to 74 years', 'Percent below poverty level!!Estimate!!65 to 74 years', 'Percent below poverty level!!Margin of Error!!65 to 74 years', 'Total!!Estimate!!75 years and over', 'Total!!Margin of Error!!75 years and over', 'Below poverty level!!Estimate!!75 years and over', 'Below poverty level!!Margin of Error!!75 years and over', 'Percent below poverty level!!Estimate!!75 years and over', 'Percent below poverty level!!Margin of Error!!75 years and over', 'Total!!Estimate!!Mean income deficit for unrelated individuals (dollars)', 'Total!!Margin of Error!!Mean income deficit for unrelated individuals (dollars)', 'Below poverty level!!Estimate!!Mean income deficit for unrelated individuals (dollars)', 'Below poverty level!!Margin of Error!!Mean income deficit for unrelated individuals (dollars)', 'Percent below poverty level!!Estimate!!Mean income deficit for unrelated individuals (dollars)', 'Percent below poverty level!!Margin of Error!!Mean income deficit for unrelated individuals (dollars)', 'Total!!Estimate!!Worked full-time, year-round in the past 12 months', 'Total!!Margin of Error!!Worked full-time, year-round in the past 12 months', 'Below poverty level!!Estimate!!Worked full-time, year-round in the past 12 months', 'Below poverty level!!Margin of Error!!Worked full-time, year-round in the past 12 months', 'Percent below poverty level!!Estimate!!Worked full-time, year-round in the past 12 months', 'Percent below poverty level!!Margin of Error!!Worked full-time, year-round in the past 12 months', 'Total!!Estimate!!Worked less than full-time, year-round in the past 12 months', 'Total!!Margin of Error!!Worked less than full-time, year-round in the past 12 months', 'Below poverty level!!Estimate!!Worked less than full-time, year-round in the past 12 months', 'Below poverty level!!Margin of Error!!Worked less than full-time, year-round in the past 12 months', 'Percent below poverty level!!Estimate!!Worked less than full-time, year-round in the past 12 months', 'Percent below poverty level!!Margin of Error!!Worked less than full-time, year-round in the past 12 months', 'Total!!Estimate!!Did not work', 'Total!!Margin of Error!!Did not work', 'Below poverty level!!Estimate!!Did not work', 'Below poverty level!!Margin of Error!!Did not work', 'Percent below poverty level!!Estimate!!Did not work', 'Percent below poverty level!!Margin of Error!!Did not work', 'Unnamed: 368']\n"
     ]
    }
   ],
   "source": [
    "print(len(column_list))\n",
    "print(column_list)"
   ]
  },
  {
   "cell_type": "code",
   "execution_count": 29,
   "metadata": {},
   "outputs": [
    {
     "name": "stdout",
     "output_type": "stream",
     "text": [
      "['tree_id', 'block_id', 'created_at', 'tree_dbh', 'stump_diam', 'curb_loc', 'status', 'health', 'spc_latin', 'spc_common', 'steward', 'guards', 'sidewalk', 'user_type', 'problems', 'root_stone', 'root_grate', 'root_other', 'trunk_wire', 'trnk_light', 'trnk_other', 'brch_light', 'brch_shoe', 'brch_other', 'address', 'postcode', 'zip_city', 'community board', 'borocode', 'borough', 'cncldist', 'st_assem', 'st_senate', 'nta', 'nta_name', 'boro_ct', 'state', 'latitude', 'longitude', 'x_sp', 'y_sp', 'council district', 'census tract', 'bin', 'bbl']\n"
     ]
    }
   ],
   "source": [
    "print(column_list2)"
   ]
  },
  {
   "cell_type": "code",
   "execution_count": null,
   "metadata": {},
   "outputs": [],
   "source": []
  }
 ],
 "metadata": {
  "kernelspec": {
   "display_name": "base",
   "language": "python",
   "name": "python3"
  },
  "language_info": {
   "codemirror_mode": {
    "name": "ipython",
    "version": 3
   },
   "file_extension": ".py",
   "mimetype": "text/x-python",
   "name": "python",
   "nbconvert_exporter": "python",
   "pygments_lexer": "ipython3",
   "version": "3.9.19"
  }
 },
 "nbformat": 4,
 "nbformat_minor": 2
}
