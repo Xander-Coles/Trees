{
 "cells": [
  {
   "cell_type": "code",
   "execution_count": 1,
   "id": "5c94d9db",
   "metadata": {},
   "outputs": [
    {
     "name": "stdout",
     "output_type": "stream",
     "text": [
      "Index(['tree_id', 'block_id', 'created_at', 'tree_dbh', 'stump_diam',\n",
      "       'curb_loc', 'status', 'health', 'spc_latin', 'spc_common',\n",
      "       ...\n",
      "       'bigtooth aspen', 'trident maple', 'Virginia pine', 'pagoda dogwood',\n",
      "       'Japanese hornbeam', 'pine', 'two-winged silverbell', 'false cypress',\n",
      "       'pitch pine', 'mimosa.1'],\n",
      "      dtype='object', length=180)\n",
      "1319\n"
     ]
    }
   ],
   "source": [
    "import pandas as pd\n",
    "from sklearn.model_selection import train_test_split\n",
    "from sklearn.preprocessing import StandardScaler\n",
    "from sklearn.neighbors import KNeighborsRegressor\n",
    "from sklearn.metrics import mean_squared_error, r2_score\n",
    "\n",
    "# Load the datasets\n",
    "df_cleaned = pd.read_csv('Trees_Quantified.csv')\n",
    "df_economic = pd.read_csv('Economic_census.csv')\n",
    "\n",
    "# Print column names of df_cleaned to verify correct column names\n",
    "print(df_cleaned.columns)\n",
    "\n",
    "# Binary analysis features (replace with actual columns)\n",
    "binary_analysis = ['root_stone', 'root_grate', 'root_other', 'trunk_wire',\n",
    "                   'trnk_light', 'trnk_other', 'brch_light', 'brch_shoe', 'brch_other']\n",
    "\n",
    "unique_species = df_cleaned['spc_common'].unique() \n",
    "species_columns = [col for col in df_cleaned.columns if col in unique_species]\n",
    "\n",
    "# Features and Target\n",
    "X = df_cleaned[['census tract', 'latitude', 'longitude', 'postcode', 'borough'] + species_columns\n",
    "               + binary_analysis + ['curb_loc', 'sidewalk', 'guards', 'steward', 'user_type', 'health']]\n",
    "y = df_cleaned['health']  # Not used, just so we can split into train and test, y is actually economic % that is used as w\n",
    "\n",
    "# Train-Test Split\n",
    "X_train, X_test, y_train, y_test = train_test_split(X, y, test_size=0.3, random_state=42)\n",
    "\n",
    "# StandardScaler\n",
    "scaler = StandardScaler()\n",
    "\n",
    "# Scale only the numerical features (exclude categorical ones like 'borough' and 'census tract')\n",
    "numerical_cols = ['curb_loc', 'sidewalk', 'guards', 'steward', 'health'] + binary_analysis\n",
    "\n",
    "# Apply StandardScaler on numerical columns of X_train and X_test\n",
    "X_train[numerical_cols] = scaler.fit_transform(X_train[numerical_cols])\n",
    "X_test[numerical_cols] = scaler.transform(X_test[numerical_cols])\n",
    "\n",
    "# Combine X_train, y_train into a single dataframe\n",
    "\n",
    "df_economic['Poverty Percent'] =  scaler.fit_transform(df_economic[['Poverty Percent']])\n",
    "print(len(df_economic['census tract'].unique()))\n",
    "\n",
    "# Assuming 'df_economic' has columns 'Council District' and 'Borough' to match with df_cleaned\n",
    "# Merge based on 'census tract' and 'borough' columns in both dataframes\n",
    "df_combined = df_economic.merge(X_train, on=['census tract', 'borough'], how='inner')"
   ]
  },
  {
   "cell_type": "code",
   "execution_count": 2,
   "id": "8cc490f0",
   "metadata": {},
   "outputs": [
    {
     "name": "stdout",
     "output_type": "stream",
     "text": [
      "Mean Squared Error (Test Set): 0.1996047921432245\n",
      "R^2 Score (Test Set): 0.7526004388767418\n"
     ]
    }
   ],
   "source": [
    "import pandas as pd\n",
    "from sklearn.neighbors import KNeighborsRegressor\n",
    "from sklearn.metrics import mean_squared_error, r2_score\n",
    "\n",
    "#Make dataset for test\n",
    "df_combined_test = df_economic.merge(X_test, on=['census tract', 'borough'], how='inner')\n",
    "df_KNN_test = df_combined_test.copy()\n",
    "df_KNN_test = df_KNN_test.drop(columns=['census tract', 'borough'])\n",
    "w_test= df_KNN_test['Poverty Percent']\n",
    "X_test_no_borough = df_KNN_test.iloc[:, df_KNN_test.columns != 'Poverty Percent']\n",
    "\n",
    "df_KNN = df_combined.copy()\n",
    "df_KNN = df_KNN.drop(columns=['census tract', 'borough'])\n",
    "w_train= df_KNN['Poverty Percent']\n",
    "X_train_no_borough = df_KNN.iloc[:, df_KNN.columns != 'Poverty Percent']\n",
    "\n",
    "#knn train\n",
    "knn = KNeighborsRegressor(n_neighbors=2)\n",
    "knn.fit(X_train_no_borough, w_train)\n",
    "\n",
    "#KNN test\n",
    "w_pred_no_loc = knn.predict(X_test_no_borough)\n",
    "mse_no_loc = mean_squared_error(w_test, w_pred_no_loc)\n",
    "r2_no_loc = r2_score(w_test, w_pred_no_loc)\n",
    "print(\"Mean Squared Error (Test Set):\", mse_no_loc)\n",
    "print(\"R^2 Score (Test Set):\", r2_no_loc)"
   ]
  },
  {
   "cell_type": "code",
   "execution_count": 3,
   "id": "661b18ff",
   "metadata": {},
   "outputs": [
    {
     "name": "stdout",
     "output_type": "stream",
     "text": [
      "0           2\n",
      "1           2\n",
      "2           2\n",
      "3           2\n",
      "4           2\n",
      "         ... \n",
      "199246    323\n",
      "199247    323\n",
      "199248    323\n",
      "199249    323\n",
      "199250    323\n",
      "Name: census tract, Length: 199251, dtype: object\n"
     ]
    }
   ],
   "source": [
    "# Function to modify the census tract based on its length\n",
    "df_combined_test['census tract'] = df_combined_test['census tract'].astype(str).str.replace('.00', '', regex=True)\n",
    "def striging(census):\n",
    "    modified_tracts = []\n",
    "    for part in census:\n",
    "        part1 = str(part)\n",
    "        part_no = part1\n",
    "        if part1[len(part1)-2]=='.':\n",
    "            part_no = part_no[:len(part1)-2]\n",
    "        modified_tracts.append(part_no)\n",
    "    return modified_tracts\n",
    "\n",
    "df_combined_test['census tract'] = striging(df_combined_test['census tract'])\n",
    "print(df_combined_test['census tract'])"
   ]
  },
  {
   "cell_type": "code",
   "execution_count": 4,
   "id": "722b8ba2",
   "metadata": {},
   "outputs": [],
   "source": [
    "import numpy as np\n",
    "w_pred_no_loc = np.round(w_pred_no_loc, decimals =2)\n",
    "df_predictions = pd.DataFrame({'predicted_poverty': w_pred_no_loc})\n",
    "\n",
    "# Concatenate the predictions with the original DataFrame\n",
    "df_final = pd.concat([df_combined_test, df_predictions], axis=1)\n",
    "# Save the new DataFrame with predictions to a CSV file\n",
    "df_final['census tract'] = df_final['census tract'].astype(str)\n",
    "df_final.to_csv('Combined_Prediction.csv', index=False)"
   ]
  },
  {
   "cell_type": "code",
   "execution_count": 13,
   "id": "2f844fbc",
   "metadata": {},
   "outputs": [
    {
     "data": {
      "image/png": "[encoded data removed]",
      "text/plain": [
       "<Figure size 576x432 with 1 Axes>"
      ]
     },
     "metadata": {
      "needs_background": "light"
     },
     "output_type": "display_data"
    }
   ],
   "source": [
    "# Compute the error (difference between true and predicted values)\n",
    "import matplotlib.pyplot as plt\n",
    "errors = w_test - w_pred_no_loc\n",
    "\n",
    "# Plot a histogram of the errors\n",
    "plt.figure(figsize=(8, 6))\n",
    "plt.hist(errors, bins=35, edgecolor='k', alpha=0.7)\n",
    "plt.title('Histogram of Prediction Errors')\n",
    "plt.xlabel('Error')\n",
    "plt.ylabel('Frequency')\n",
    "plt.grid(True)\n",
    "plt.show()"
   ]
  },
  {
   "cell_type": "code",
   "execution_count": 14,
   "id": "2cd0f16d",
   "metadata": {},
   "outputs": [
    {
     "name": "stdout",
     "output_type": "stream",
     "text": [
      "Mean Squared Error (Test Set): 0.20258613072041753\n",
      "R^2 Score (Test Set): 0.74890522771654\n"
     ]
    }
   ],
   "source": [
    "import pandas as pd\n",
    "from sklearn.model_selection import train_test_split, KFold, cross_val_score\n",
    "from sklearn.neighbors import KNeighborsRegressor\n",
    "from sklearn.metrics import mean_squared_error, r2_score\n",
    "\n",
    "#Make dataset for test\n",
    "df_combined_test = df_economic.merge(X_test, on=['census tract', 'borough'], how='inner')\n",
    "df_KNN_test = df_combined_test.copy()\n",
    "df_KNN_test = df_KNN_test.drop(columns=['census tract', 'borough'])\n",
    "w_test= df_KNN_test['Poverty Percent']\n",
    "X_test_no_borough = df_KNN_test.iloc[:, df_KNN_test.columns != 'Poverty Percent']\n",
    "\n",
    "df_KNN = df_combined.copy()\n",
    "df_KNN = df_KNN.drop(columns=['census tract', 'borough'])\n",
    "w_train= df_KNN['Poverty Percent']\n",
    "X_train_no_borough = df_KNN.iloc[:, df_KNN.columns != 'Poverty Percent']\n",
    "\n",
    "#knn train\n",
    "knn = KNeighborsRegressor(n_neighbors=5)\n",
    "knn.fit(X_train_no_borough, w_train)\n",
    "\n",
    "#KNN test\n",
    "w_pred_no_loc = knn.predict(X_test_no_borough)\n",
    "mse_no_loc = mean_squared_error(w_test, w_pred_no_loc)\n",
    "r2_no_loc = r2_score(w_test, w_pred_no_loc)\n",
    "print(\"Mean Squared Error (Test Set):\", mse_no_loc)\n",
    "print(\"R^2 Score (Test Set):\", r2_no_loc)"
   ]
  },
  {
   "cell_type": "code",
   "execution_count": 15,
   "id": "f9e151a4",
   "metadata": {},
   "outputs": [
    {
     "data": {
      "image/png": "[encoded data removed]",
      "text/plain": [
       "<Figure size 576x432 with 1 Axes>"
      ]
     },
     "metadata": {
      "needs_background": "light"
     },
     "output_type": "display_data"
    }
   ],
   "source": [
    "# Compute the error (difference between true and predicted values)\n",
    "import matplotlib.pyplot as plt\n",
    "errors = w_test - w_pred_no_loc\n",
    "\n",
    "# Plot a histogram of the errors\n",
    "plt.figure(figsize=(8, 6))\n",
    "plt.hist(errors, bins=35, edgecolor='k', alpha=0.7)\n",
    "plt.title('Histogram of Prediction Errors')\n",
    "plt.xlabel('Error')\n",
    "plt.ylabel('Frequency')\n",
    "plt.grid(True)\n",
    "plt.show()"
   ]
  },
  {
   "cell_type": "code",
   "execution_count": 16,
   "id": "e93d304c",
   "metadata": {},
   "outputs": [
    {
     "name": "stdout",
     "output_type": "stream",
     "text": [
      "Kurtosis of Actual Values (w_test): 0.9667273085037635\n",
      "Kurtosis of Predicted Values (w_pred_no_loc): 0.7297757876252269\n"
     ]
    }
   ],
   "source": [
    "from scipy.stats import kurtosis\n",
    "kurtosis_actual = kurtosis(w_test)\n",
    "kurtosis_pred = kurtosis(w_pred_no_loc)\n",
    "print(\"Kurtosis of Actual Values (w_test):\", kurtosis_actual)\n",
    "print(\"Kurtosis of Predicted Values (w_pred_no_loc):\", kurtosis_pred)"
   ]
  },
  {
   "cell_type": "code",
   "execution_count": 17,
   "id": "35d98fd8",
   "metadata": {},
   "outputs": [],
   "source": [
    "import numpy as np\n",
    "w_pred_no_loc = np.round(w_pred_no_loc, decimals =2)\n",
    "df_predictions = pd.DataFrame({'predicted_poverty': w_pred_no_loc})\n",
    "\n",
    "# Concatenate the predictions with the original DataFrame\n",
    "df_final = pd.concat([df_combined_test, df_predictions], axis=1)\n",
    "# Save the new DataFrame with predictions to a CSV file\n",
    "df_final['census tract'] = df_final['census tract'].astype(str)\n",
    "df_final.to_csv('Combined_Prediction.csv', index=False)"
   ]
  },
  {
   "cell_type": "code",
   "execution_count": 18,
   "id": "c8ed508b",
   "metadata": {},
   "outputs": [
    {
     "name": "stdout",
     "output_type": "stream",
     "text": [
      "Mean Squared Error (Test Set): 0.19744177223937157\n",
      "R^2 Score (Test Set): 0.7552813874109338\n"
     ]
    }
   ],
   "source": [
    "import pandas as pd\n",
    "from sklearn.model_selection import train_test_split, KFold, cross_val_score\n",
    "from sklearn.neighbors import KNeighborsRegressor\n",
    "from sklearn.metrics import mean_squared_error, r2_score\n",
    "\n",
    "#knn train\n",
    "knn = KNeighborsRegressor(n_neighbors=3)\n",
    "knn.fit(X_train_no_borough, w_train)\n",
    "\n",
    "#KNN test\n",
    "w_pred_no_loc = knn.predict(X_test_no_borough)\n",
    "mse_no_loc = mean_squared_error(w_test, w_pred_no_loc)\n",
    "r2_no_loc = r2_score(w_test, w_pred_no_loc)\n",
    "print(\"Mean Squared Error (Test Set):\", mse_no_loc)\n",
    "print(\"R^2 Score (Test Set):\", r2_no_loc)"
   ]
  },
  {
   "cell_type": "code",
   "execution_count": 19,
   "id": "bbeb5dc2",
   "metadata": {},
   "outputs": [
    {
     "name": "stdout",
     "output_type": "stream",
     "text": [
      "Kurtosis of Actual Values (w_test): 0.9667273085037635\n",
      "Kurtosis of Predicted Values (w_pred_no_loc): 0.7788317097887791\n"
     ]
    }
   ],
   "source": [
    "from scipy.stats import kurtosis\n",
    "kurtosis_actual = kurtosis(w_test)\n",
    "kurtosis_pred = kurtosis(w_pred_no_loc)\n",
    "print(\"Kurtosis of Actual Values (w_test):\", kurtosis_actual)\n",
    "print(\"Kurtosis of Predicted Values (w_pred_no_loc):\", kurtosis_pred)"
   ]
  },
  {
   "cell_type": "code",
   "execution_count": 20,
   "id": "c5399911",
   "metadata": {},
   "outputs": [
    {
     "data": {
      "image/png": "[encoded data removed]",
      "text/plain": [
       "<Figure size 576x432 with 1 Axes>"
      ]
     },
     "metadata": {
      "needs_background": "light"
     },
     "output_type": "display_data"
    }
   ],
   "source": [
    "import matplotlib.pyplot as plt\n",
    "errors = w_test - w_pred_no_loc\n",
    "\n",
    "# Plot a histogram of the errors\n",
    "plt.figure(figsize=(8, 6))\n",
    "plt.hist(errors, bins=35, edgecolor='k', alpha=0.7)\n",
    "plt.title('Histogram of Prediction Errors')\n",
    "plt.xlabel('Error')\n",
    "plt.ylabel('Frequency')\n",
    "plt.grid(True)\n",
    "plt.show()"
   ]
  },
  {
   "cell_type": "code",
   "execution_count": 21,
   "id": "fd56c7e7",
   "metadata": {},
   "outputs": [
    {
     "name": "stdout",
     "output_type": "stream",
     "text": [
      "Mean Squared Error (Test Set): 0.1996047921432245\n",
      "R^2 Score (Test Set): 0.7526004388767418\n"
     ]
    }
   ],
   "source": [
    "#knn train\n",
    "knn = KNeighborsRegressor(n_neighbors=2)\n",
    "knn.fit(X_train_no_borough, w_train)\n",
    "\n",
    "#KNN test\n",
    "w_pred_no_loc = knn.predict(X_test_no_borough)\n",
    "mse_no_loc = mean_squared_error(w_test, w_pred_no_loc)\n",
    "r2_no_loc = r2_score(w_test, w_pred_no_loc)\n",
    "print(\"Mean Squared Error (Test Set):\", mse_no_loc)\n",
    "print(\"R^2 Score (Test Set):\", r2_no_loc)"
   ]
  },
  {
   "cell_type": "code",
   "execution_count": 22,
   "id": "9f351782",
   "metadata": {},
   "outputs": [
    {
     "name": "stdout",
     "output_type": "stream",
     "text": [
      "Kurtosis of Actual Values (w_test): 0.9667273085037635\n",
      "Kurtosis of Predicted Values (w_pred_no_loc): 0.8418325968138842\n"
     ]
    }
   ],
   "source": [
    "from scipy.stats import kurtosis\n",
    "kurtosis_actual = kurtosis(w_test)\n",
    "kurtosis_pred = kurtosis(w_pred_no_loc)\n",
    "print(\"Kurtosis of Actual Values (w_test):\", kurtosis_actual)\n",
    "print(\"Kurtosis of Predicted Values (w_pred_no_loc):\", kurtosis_pred)"
   ]
  },
  {
   "cell_type": "code",
   "execution_count": 23,
   "id": "846c1770",
   "metadata": {},
   "outputs": [
    {
     "data": {
      "image/png": "[encoded data removed]",
      "text/plain": [
       "<Figure size 576x432 with 1 Axes>"
      ]
     },
     "metadata": {
      "needs_background": "light"
     },
     "output_type": "display_data"
    }
   ],
   "source": [
    "import matplotlib.pyplot as plt\n",
    "errors = w_test - w_pred_no_loc\n",
    "\n",
    "# Plot a histogram of the errors\n",
    "plt.figure(figsize=(8, 6))\n",
    "plt.hist(errors, bins=35, edgecolor='k', alpha=0.7)\n",
    "plt.title('Histogram of Prediction Errors')\n",
    "plt.xlabel('Error')\n",
    "plt.ylabel('Frequency')\n",
    "plt.grid(True)\n",
    "plt.show()"
   ]
  },
  {
   "cell_type": "code",
   "execution_count": 24,
   "id": "787871a6",
   "metadata": {},
   "outputs": [
    {
     "name": "stdout",
     "output_type": "stream",
     "text": [
      "Mean Squared Error (Test Set): 0.2182717761596536\n",
      "R^2 Score (Test Set): 0.7294637015090051\n"
     ]
    }
   ],
   "source": [
    "#knn train\n",
    "knn = KNeighborsRegressor(n_neighbors=10)\n",
    "knn.fit(X_train_no_borough, w_train)\n",
    "\n",
    "#KNN test\n",
    "w_pred_no_loc = knn.predict(X_test_no_borough)\n",
    "mse_no_loc = mean_squared_error(w_test, w_pred_no_loc)\n",
    "r2_no_loc = r2_score(w_test, w_pred_no_loc)\n",
    "print(\"Mean Squared Error (Test Set):\", mse_no_loc)\n",
    "print(\"R^2 Score (Test Set):\", r2_no_loc)"
   ]
  },
  {
   "cell_type": "code",
   "execution_count": null,
   "id": "b54c3f85",
   "metadata": {},
   "outputs": [],
   "source": []
  }
 ],
 "metadata": {
  "kernelspec": {
   "display_name": "Python 3 (ipykernel)",
   "language": "python",
   "name": "python3"
  },
  "language_info": {
   "codemirror_mode": {
    "name": "ipython",
    "version": 3
   },
   "file_extension": ".py",
   "mimetype": "text/x-python",
   "name": "python",
   "nbconvert_exporter": "python",
   "pygments_lexer": "ipython3",
   "version": "3.9.12"
  }
 },
 "nbformat": 4,
 "nbformat_minor": 5
}
