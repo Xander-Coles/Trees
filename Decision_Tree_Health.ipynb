{
 "cells": [
  {
   "cell_type": "code",
   "execution_count": 44,
   "metadata": {},
   "outputs": [],
   "source": [
    "import pandas as pd\n",
    "from sklearn.ensemble import RandomForestClassifier\n",
    "from sklearn.tree import DecisionTreeClassifier\n",
    "from sklearn.model_selection import train_test_split\n",
    "from sklearn.preprocessing import LabelEncoder\n",
    "from sklearn.metrics import accuracy_score, classification_report\n",
    "from sklearn.metrics import mean_squared_error, r2_score"
   ]
  },
  {
   "cell_type": "code",
   "execution_count": 45,
   "metadata": {},
   "outputs": [],
   "source": [
    "df = pd.read_csv('Trees_Quantified.csv')"
   ]
  },
  {
   "cell_type": "code",
   "execution_count": 46,
   "metadata": {},
   "outputs": [
    {
     "name": "stdout",
     "output_type": "stream",
     "text": [
      "Accuracy: 0.8778674061003277\n",
      "Classification Report:\n",
      "               precision    recall  f1-score   support\n",
      "\n",
      "        Fair       0.31      0.09      0.14      1405\n",
      "        Good       0.74      0.95      0.83      4731\n",
      "        Poor       0.99      0.96      0.98      9732\n",
      "\n",
      "    accuracy                           0.88     15868\n",
      "   macro avg       0.68      0.66      0.65     15868\n",
      "weighted avg       0.86      0.88      0.86     15868\n",
      "\n",
      "        Feature  Importance\n",
      "14      steward    0.927807\n",
      "3    brch_other    0.012823\n",
      "0      tree_dbh    0.010300\n",
      "2      st_assem    0.009731\n",
      "1      cncldist    0.009645\n",
      "..          ...         ...\n",
      "133  pitch pine    0.000000\n",
      "134      mimosa    0.000000\n",
      "135   smoketree    0.000000\n",
      "136      spruce    0.000000\n",
      "137    red pine    0.000000\n",
      "\n",
      "[138 rows x 2 columns]\n",
      "Accuracy: 0.8834131585581043\n",
      "Classification Report:\n",
      "               precision    recall  f1-score   support\n",
      "\n",
      "        Fair       1.00      0.00      0.00      1405\n",
      "        Good       0.72      1.00      0.84      4731\n",
      "        Poor       1.00      0.95      0.98      9732\n",
      "\n",
      "    accuracy                           0.88     15868\n",
      "   macro avg       0.91      0.65      0.61     15868\n",
      "weighted avg       0.92      0.88      0.85     15868\n",
      "\n",
      "Feature Importance:\n",
      "         Feature  Importance\n",
      "14      steward    0.927807\n",
      "3    brch_other    0.012823\n",
      "0      tree_dbh    0.010300\n",
      "2      st_assem    0.009731\n",
      "1      cncldist    0.009645\n",
      "..          ...         ...\n",
      "133  pitch pine    0.000000\n",
      "134      mimosa    0.000000\n",
      "135   smoketree    0.000000\n",
      "136      spruce    0.000000\n",
      "137    red pine    0.000000\n",
      "\n",
      "[138 rows x 2 columns]\n"
     ]
    }
   ],
   "source": [
    "\n",
    "unique_species = df['spc_common'].unique() \n",
    "species_columns = [col for col in df.columns if col in unique_species]\n",
    "\n",
    "df['health'] = pd.cut(df['health'], bins=[-0.1, 0.4, 0.6, 1.1], labels=['Poor', 'Fair', 'Good'])\n",
    "selected_columns = [\n",
    "    'tree_dbh', 'cncldist', 'st_assem', 'brch_other', \n",
    "    'brch_shoe', 'brch_light', 'trnk_other', 'trnk_light', 'trunk_wire', 'root_other', \n",
    "    'root_grate', 'root_stone', 'sidewalk', 'guards', 'steward']+ species_columns\n",
    "X = df[selected_columns]\n",
    "y = df['health']\n",
    "\n",
    "X_train, X_test, y_train, y_test = train_test_split(X, y, test_size=0.3, random_state=42)\n",
    "\n",
    "clf = DecisionTreeClassifier(random_state=42, max_depth=10)\n",
    "clf.fit(X_train, y_train)\n",
    "\n",
    "y_pred = clf.predict(X_test)\n",
    "print(\"Accuracy:\", accuracy_score(y_test, y_pred))\n",
    "print(\"Classification Report:\\n\", classification_report(y_test, y_pred))\n",
    "\n",
    "importances = clf.feature_importances_\n",
    "feature_importance_df = pd.DataFrame({'Feature': X.columns, 'Importance': importances})\n",
    "feature_importance_df = feature_importance_df.sort_values(by='Importance', ascending=False)\n",
    "print(feature_importance_df)\n",
    "\n",
    "y_pred_all0 = clf.predict(X)\n",
    "df['dt_predicted_health'] = y_pred_all0\n",
    "\n",
    "#random forest\n",
    "rf_clf = RandomForestClassifier(n_estimators=200, random_state=42, max_depth=10)\n",
    "rf_clf.fit(X_train, y_train)\n",
    "\n",
    "y_pred1 = rf_clf.predict(X_test)\n",
    "\n",
    "print(\"Accuracy:\", accuracy_score(y_test, y_pred1))\n",
    "print(\"Classification Report:\\n\", classification_report(y_test, y_pred1))\n",
    "\n",
    "importances1 = rf_clf.feature_importances_\n",
    "feature_importance_df1 = pd.DataFrame({'Feature': X.columns, 'Importance': importances})\n",
    "feature_importance_df1 = feature_importance_df.sort_values(by='Importance', ascending=False)\n",
    "print(\"Feature Importance:\\n\", feature_importance_df1)\n",
    "\n",
    "y_pred_all1 = rf_clf.predict(X)\n",
    "df['rf_predicted_health'] = y_pred_all1"
   ]
  },
  {
   "cell_type": "code",
   "execution_count": 47,
   "metadata": {},
   "outputs": [
    {
     "name": "stdout",
     "output_type": "stream",
     "text": [
      "DT Mean Squared Error: 0.010906075428682402\n",
      "DT R^2 Score: 0.9882921856091407\n",
      "RF Mean Squared Error: 3.176833879505924e-05\n",
      "RF R^2 Score: 0.9999672773309717\n"
     ]
    }
   ],
   "source": [
    "#mse and r^2 calculations\n",
    "from sklearn.tree import DecisionTreeRegressor\n",
    "from sklearn.ensemble import RandomForestRegressor\n",
    "\n",
    "label_mapping = {'Poor': 0, 'Fair': 1, 'Good': 2}\n",
    "df['dt_health_numeric'] = df['dt_predicted_health'].map(label_mapping)\n",
    "\n",
    "y = df['dt_health_numeric']\n",
    "X = df[selected_columns]\n",
    "\n",
    "X_train, X_test, y_train, y_test = train_test_split(X, y, test_size=0.3, random_state=42)\n",
    "\n",
    "reg = DecisionTreeRegressor(random_state=42, max_depth=10)\n",
    "reg.fit(X_train, y_train)\n",
    "\n",
    "y_pred = reg.predict(X_test)\n",
    "print(\"DT Mean Squared Error:\", mean_squared_error(y_test, y_pred))\n",
    "print(\"DT R^2 Score:\", r2_score(y_test, y_pred))\n",
    "\n",
    "label_mapping = {'Poor': 0, 'Fair': 1, 'Good': 2}\n",
    "df['rf_health_numeric'] = df['rf_predicted_health'].map(label_mapping)\n",
    "\n",
    "y = df['rf_health_numeric']\n",
    "X = df[selected_columns]\n",
    "\n",
    "X_train, X_test, y_train, y_test = train_test_split(X, y, test_size=0.3, random_state=42)\n",
    "\n",
    "reg = RandomForestRegressor(random_state=42, max_depth=10)\n",
    "reg.fit(X_train, y_train)\n",
    "\n",
    "y_pred = reg.predict(X_test)\n",
    "print(\"RF Mean Squared Error:\", mean_squared_error(y_test, y_pred))\n",
    "print(\"RF R^2 Score:\", r2_score(y_test, y_pred))"
   ]
  },
  {
   "cell_type": "code",
   "execution_count": 48,
   "metadata": {},
   "outputs": [],
   "source": [
    "#Data redimensions for showing in the graph\n",
    "df.loc[df['rf_predicted_health'].isin(['Poor']), ['rf_predicted_health']] = 0\n",
    "df.loc[df['rf_predicted_health'] == 'Fair', ['rf_predicted_health']] = 0.5\n",
    "df.loc[df['rf_predicted_health']== 'Good', ['rf_predicted_health']] = 1\n",
    "\n",
    "df['health'] = df['health'].cat.add_categories([0, 0.5, 1])\n",
    "\n",
    "df.loc[df['health'] == 'Poor', ['health']] = 0\n",
    "df.loc[df['health'] == 'Fair', ['health']] = 0.5\n",
    "df.loc[df['health'] == 'Good', ['health']] = 1\n",
    "\n",
    "#df.loc[df['borough'] == 1, ['borough']] = ['Brooklyn']\n",
    "#df.loc[df['borough'] == 2, ['borough']] = ['Manhattan']\n",
    "#df.loc[df['borough'] == 3, ['borough']] = ['Queens']\n",
    "#df.loc[df['borough'] == 0, ['borough']] = ['Bronx']\n",
    "#df.loc[df['borough'] == 4, ['borough']] = ['Staten Island']\n"
   ]
  },
  {
   "cell_type": "code",
   "execution_count": 49,
   "metadata": {},
   "outputs": [
    {
     "name": "stdout",
     "output_type": "stream",
     "text": [
      "0        191\n",
      "1        183\n",
      "2        128\n",
      "3        138\n",
      "4        145\n",
      "        ... \n",
      "52888    395\n",
      "52889     58\n",
      "52890    157\n",
      "52891    157\n",
      "52892    118\n",
      "Name: census tract, Length: 52893, dtype: object\n"
     ]
    }
   ],
   "source": [
    "# Function to modify the census tract based on its length\n",
    "df['census tract'] = df['census tract'].astype(str).str.replace('.00', '', regex=True)\n",
    "def striging(census):\n",
    "    modified_tracts = []\n",
    "    for part in census:\n",
    "        part1 = str(part)\n",
    "        part_no = part1\n",
    "        if part1[len(part1)-2]=='.':\n",
    "            part_no = part_no[:len(part1)-2]\n",
    "        modified_tracts.append(part_no)\n",
    "    return modified_tracts\n",
    "\n",
    "df['census tract'] = striging(df['census tract'])\n",
    "print(df['census tract'])"
   ]
  },
  {
   "cell_type": "code",
   "execution_count": 50,
   "metadata": {},
   "outputs": [],
   "source": [
    "df.to_csv('DecisionTree_RandomForest_Health_Predictions.csv', index=False)\n"
   ]
  }
 ],
 "metadata": {
  "kernelspec": {
   "display_name": "Python 3",
   "language": "python",
   "name": "python3"
  },
  "language_info": {
   "codemirror_mode": {
    "name": "ipython",
    "version": 3
   },
   "file_extension": ".py",
   "mimetype": "text/x-python",
   "name": "python",
   "nbconvert_exporter": "python",
   "pygments_lexer": "ipython3",
   "version": "3.13.0"
  }
 },
 "nbformat": 4,
 "nbformat_minor": 2
}
