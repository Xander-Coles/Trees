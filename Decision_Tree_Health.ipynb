{
 "cells": [
  {
   "cell_type": "code",
   "execution_count": 2,
   "metadata": {},
   "outputs": [],
   "source": [
    "import pandas as pd\n",
    "from sklearn.ensemble import RandomForestClassifier\n",
    "from sklearn.tree import DecisionTreeClassifier\n",
    "from sklearn.model_selection import train_test_split\n",
    "from sklearn.preprocessing import LabelEncoder\n",
    "from sklearn.metrics import accuracy_score, classification_report"
   ]
  },
  {
   "cell_type": "code",
   "execution_count": 19,
   "metadata": {},
   "outputs": [],
   "source": [
    "df = pd.read_csv('Trees_Quantified.csv')"
   ]
  },
  {
   "cell_type": "code",
   "execution_count": 20,
   "metadata": {},
   "outputs": [
    {
     "name": "stdout",
     "output_type": "stream",
     "text": [
      "Accuracy: 0.7609315894874774\n",
      "Classification Report:\n",
      "               precision    recall  f1-score   support\n",
      "\n",
      "        Fair       0.27      0.24      0.25     28301\n",
      "        Good       0.84      0.87      0.86    156767\n",
      "        Poor       0.72      0.60      0.65     17167\n",
      "\n",
      "    accuracy                           0.76    202235\n",
      "   macro avg       0.61      0.57      0.59    202235\n",
      "weighted avg       0.75      0.76      0.76    202235\n",
      "\n",
      "           Feature  Importance\n",
      "0         tree_dbh    0.173751\n",
      "25           stump    0.145363\n",
      "26            dead    0.119621\n",
      "2         st_assem    0.118999\n",
      "1         cncldist    0.100083\n",
      "..             ...         ...\n",
      "128     Scots pine    0.000039\n",
      "95     Atlas cedar    0.000028\n",
      "142  Virginia pine    0.000013\n",
      "125   Osage-orange    0.000010\n",
      "148     pitch pine    0.000002\n",
      "\n",
      "[149 rows x 2 columns]\n",
      "Accuracy: 0.8038717333794843\n",
      "Classification Report:\n",
      "               precision    recall  f1-score   support\n",
      "\n",
      "        Fair       0.34      0.16      0.21     28301\n",
      "        Good       0.84      0.94      0.89    156767\n",
      "        Poor       0.82      0.59      0.69     17167\n",
      "\n",
      "    accuracy                           0.80    202235\n",
      "   macro avg       0.67      0.56      0.60    202235\n",
      "weighted avg       0.77      0.80      0.78    202235\n",
      "\n",
      "Feature Importance:\n",
      "            Feature  Importance\n",
      "0         tree_dbh    0.173751\n",
      "25           stump    0.145363\n",
      "26            dead    0.119621\n",
      "2         st_assem    0.118999\n",
      "1         cncldist    0.100083\n",
      "..             ...         ...\n",
      "128     Scots pine    0.000039\n",
      "95     Atlas cedar    0.000028\n",
      "142  Virginia pine    0.000013\n",
      "125   Osage-orange    0.000010\n",
      "148     pitch pine    0.000002\n",
      "\n",
      "[149 rows x 2 columns]\n"
     ]
    }
   ],
   "source": [
    "\n",
    "unique_species = df['spc_common'].unique() \n",
    "species_columns = [col for col in df.columns if col in unique_species]\n",
    "\n",
    "df['health'] = pd.cut(df['health'], bins=[-0.1, 0.4, 0.6, 1.1], labels=['Poor', 'Fair', 'Good'])\n",
    "selected_columns = [\n",
    "    'tree_dbh', 'cncldist', 'st_assem', 'brch_other', \n",
    "    'brch_shoe', 'brch_light', 'trnk_other', 'trnk_light', 'trunk_wire', 'root_other', \n",
    "    'root_grate', 'root_stone', 'sidewalk', 'guards', 'steward']+ species_columns\n",
    "X = df[selected_columns]\n",
    "y = df['health']\n",
    "\n",
    "X_train, X_test, y_train, y_test = train_test_split(X, y, test_size=0.3, random_state=42)\n",
    "\n",
    "clf = DecisionTreeClassifier(random_state=42)\n",
    "clf.fit(X_train, y_train)\n",
    "\n",
    "y_pred = clf.predict(X_test)\n",
    "print(\"Accuracy:\", accuracy_score(y_test, y_pred))\n",
    "print(\"Classification Report:\\n\", classification_report(y_test, y_pred))\n",
    "\n",
    "importances = clf.feature_importances_\n",
    "feature_importance_df = pd.DataFrame({'Feature': X.columns, 'Importance': importances})\n",
    "feature_importance_df = feature_importance_df.sort_values(by='Importance', ascending=False)\n",
    "print(feature_importance_df)\n",
    "\n",
    "y_pred_all0 = clf.predict(X)\n",
    "df['dt_predicted_health'] = y_pred_all0\n",
    "\n",
    "#random forest\n",
    "rf_clf = RandomForestClassifier(n_estimators=200, random_state=42)\n",
    "rf_clf.fit(X_train, y_train)\n",
    "\n",
    "y_pred1 = rf_clf.predict(X_test)\n",
    "\n",
    "print(\"Accuracy:\", accuracy_score(y_test, y_pred1))\n",
    "print(\"Classification Report:\\n\", classification_report(y_test, y_pred1))\n",
    "\n",
    "importances1 = rf_clf.feature_importances_\n",
    "feature_importance_df1 = pd.DataFrame({'Feature': X.columns, 'Importance': importances})\n",
    "feature_importance_df1 = feature_importance_df.sort_values(by='Importance', ascending=False)\n",
    "print(\"Feature Importance:\\n\", feature_importance_df1)\n",
    "\n",
    "y_pred_all1 = rf_clf.predict(X)\n",
    "df['rf_predicted_health'] = y_pred_all1\n",
    "\n",
    "\n"
   ]
  },
  {
   "cell_type": "code",
   "execution_count": 21,
   "metadata": {},
   "outputs": [],
   "source": [
    "#Data redimensions for showing in the graph\n",
    "df.loc[df['rf_predicted_health'].isin(['Poor']), ['rf_predicted_health']] = 0\n",
    "df.loc[df['rf_predicted_health'] == 'Fair', ['rf_predicted_health']] = 0.5\n",
    "df.loc[df['rf_predicted_health']== 'Good', ['rf_predicted_health']] = 1\n",
    "\n",
    "df['health'] = df['health'].cat.add_categories([0, 0.5, 1])\n",
    "\n",
    "df.loc[df['health'] == 'Poor', ['health']] = 0\n",
    "df.loc[df['health'] == 'Fair', ['health']] = 0.5\n",
    "df.loc[df['health'] == 'Good', ['health']] = 1\n",
    "\n",
    "#df.loc[df['borough'] == 1, ['borough']] = ['Brooklyn']\n",
    "#df.loc[df['borough'] == 2, ['borough']] = ['Manhattan']\n",
    "#df.loc[df['borough'] == 3, ['borough']] = ['Queens']\n",
    "#df.loc[df['borough'] == 0, ['borough']] = ['Bronx']\n",
    "#df.loc[df['borough'] == 4, ['borough']] = ['Staten Island']\n"
   ]
  },
  {
   "cell_type": "code",
   "execution_count": 23,
   "metadata": {},
   "outputs": [
    {
     "name": "stdout",
     "output_type": "stream",
     "text": [
      "0            739\n",
      "1            973\n",
      "2            449\n",
      "3            449\n",
      "4            165\n",
      "           ...  \n",
      "674110       519\n",
      "674111       707\n",
      "674112       201\n",
      "674113    235.02\n",
      "674114      1341\n",
      "Name: census tract, Length: 674115, dtype: object\n"
     ]
    }
   ],
   "source": [
    "# Function to modify the census tract based on its length\n",
    "df['census tract'] = df['census tract'].astype(str).str.replace('.00', '', regex=True)\n",
    "def striging(census):\n",
    "    modified_tracts = []\n",
    "    for part in census:\n",
    "        part1 = str(part)\n",
    "        part_no = part1\n",
    "        if part1[len(part1)-2]=='.':\n",
    "            part_no = part_no[:len(part1)-2]\n",
    "        modified_tracts.append(part_no)\n",
    "    return modified_tracts\n",
    "\n",
    "df['census tract'] = striging(df['census tract'])\n",
    "print(df['census tract'])"
   ]
  },
  {
   "cell_type": "code",
   "execution_count": null,
   "metadata": {},
   "outputs": [],
   "source": [
    "df.to_csv('DecisionTree_RandomForest_Health_Predictions.csv', index=False)\n"
   ]
  }
 ],
 "metadata": {
  "kernelspec": {
   "display_name": "Python 3 (ipykernel)",
   "language": "python",
   "name": "python3"
  },
  "language_info": {
   "codemirror_mode": {
    "name": "ipython",
    "version": 3
   },
   "file_extension": ".py",
   "mimetype": "text/x-python",
   "name": "python",
   "nbconvert_exporter": "python",
   "pygments_lexer": "ipython3",
   "version": "3.9.12"
  }
 },
 "nbformat": 4,
 "nbformat_minor": 2
}
