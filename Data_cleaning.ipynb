{
  "cells": [
    {
      "cell_type": "code",
      "execution_count": null,
      "id": "19fa3532",
      "metadata": {
        "id": "19fa3532",
        "outputId": "048a884d-fe6e-4b7b-91e0-3c74eeca564b"
      },
      "outputs": [
        {
          "name": "stdout",
          "output_type": "stream",
          "text": [
            "Initial shape: (683788, 45)\n",
            "Columns with empty values (original): ['health', 'spc_latin', 'spc_common', 'steward', 'guards', 'sidewalk', 'problems', 'council district', 'census tract', 'bin', 'bbl']\n",
            "Columns with empty values (after fill): ['health', 'spc_latin', 'spc_common', 'guards', 'sidewalk', 'problems', 'council district', 'census tract', 'bin', 'bbl']\n",
            "Cleaned shape: (674115, 45)\n",
            "steward: ['None' '1or2' '3or4' 'stump' 'dead' '4orMore']\n"
          ]
        }
      ],
      "source": [
        "import pandas as pd\n",
        "\n",
        "# Load the data\n",
        "df = pd.read_csv('2015_Street_Tree_Census_-_Tree_Data_20241027.csv')\n",
        "\n",
        "# Display initial shape\n",
        "print(\"Initial shape:\", df.shape)\n",
        "\n",
        "# Identify columns with empty values\n",
        "empty_columns_original = df.columns[df.isnull().any()].tolist()\n",
        "print(\"Columns with empty values (original):\", empty_columns_original)\n",
        "\n",
        "# Fill specified columns based on the 'cstatus' column\n",
        "df.loc[df['status'] == 'Dead', ['health', 'spc_latin', 'spc_common', 'steward', 'guards', 'sidewalk', 'problems']] = 'dead'\n",
        "df.loc[df['status'] == 'Stump', ['health', 'spc_latin', 'spc_common', 'steward', 'guards', 'sidewalk', 'problems']] = 'stump'\n",
        "df.loc[df['status'] == 'dead', ['health', 'spc_latin', 'spc_common', 'steward', 'guards', 'sidewalk', 'problems']] = 'dead'\n",
        "df.loc[df['status'] == 'stump', ['health', 'spc_latin', 'spc_common', 'steward', 'guards', 'sidewalk', 'problems']] = 'stump'\n",
        "\n",
        "\n",
        "# Identify columns with empty values after filling\n",
        "empty_columns_after_fill = df.columns[df.isnull().any()].tolist()\n",
        "print(\"Columns with empty values (after fill):\", empty_columns_after_fill)\n",
        "\n",
        "# Drop rows with any empty values in specified key columns\n",
        "df_cleaned = df.dropna(subset=empty_columns_after_fill)\n",
        "\n",
        "# Display cleaned shape\n",
        "print(\"Cleaned shape:\", df_cleaned.shape)\n",
        "# Save the cleaned data back to Excel\n",
        "df_cleaned.to_csv('cleaned_data.csv', index=False)\n",
        "\n",
        "#Used code for making numeric the information below\n",
        "#print('root stone', df_cleaned['root_stone'].unique())\n",
        "#print('sidewalk:', df_cleaned['sidewalk'].unique())\n",
        "#print('guards:', df_cleaned['guards'].unique())\n",
        "print('steward:', df_cleaned['steward'].unique())\n",
        "#print('health:', df_cleaned['health'].unique())\n",
        "#print('user_type:', df_cleaned['user_type'].unique())"
      ]
    },
    {
      "cell_type": "code",
      "execution_count": null,
      "id": "5eda6082",
      "metadata": {
        "id": "5eda6082"
      },
      "outputs": [],
      "source": [
        "#translating strings into values for analysis\n",
        "#binary analysis for column with yes/no option\n",
        "binary_analysis = ['root_stone', 'root_grate', 'root_other', 'trunk_wire',\n",
        "                   'trnk_light', 'trnk_other', 'brch_light', 'brch_shoe', 'brch_other']\n",
        "for name in binary_analysis:\n",
        "    df_cleaned.loc[df[name] == 'No', [name]] = 0\n",
        "    df_cleaned.loc[df[name] == 'Yes', [name]] = 1\n",
        "\n",
        "#Option for sidewalk problem\n",
        "df_cleaned.loc[df['sidewalk'].isin(['NoDamage', 'dead', 'stump']), ['sidewalk']] = 0\n",
        "df_cleaned.loc[df['sidewalk'] == 'Damage', ['sidewalk']] = 1\n",
        "\n",
        "#Guards problem or lack of it\n",
        "df_cleaned.loc[df['guards'].isin(['None','Unsure','dead','stump']), ['guards']] = 0\n",
        "df_cleaned.loc[df['guards'] == 'Helpful', ['guards']] = 1\n",
        "df_cleaned.loc[df['guards'] == 'Harmful', ['guards']] = -1\n",
        "\n",
        "#Stewardship- show importance to community, not sure if helpful but show how much community relates to trees\n",
        "#maybe for later analysis\n",
        "df_cleaned.loc[df['steward'].isin(['None','Unsure','dead','stump']), ['steward']] = 0\n",
        "df_cleaned.loc[df['steward'] == '1or2', ['steward']] = 1.5\n",
        "df_cleaned.loc[df['steward'] == '3or4', ['steward']] = 3.5\n",
        "df_cleaned.loc[df['steward'] == '4orMore', ['steward']] = 5\n",
        "\n",
        "#Column to be used as a prediction\n",
        "df_cleaned.loc[df['health'].isin(['Poor','dead','stump']), ['health']] = 0\n",
        "df_cleaned.loc[df['health'] == 'Fair', ['health']] = 0.5\n",
        "df_cleaned.loc[df['health'] == 'Good', ['health']] = 1\n",
        "\n",
        "#bias analysis user_type if neeeded\n",
        "df_cleaned.loc[df['user_type'] == 'TreesCount Staff', ['user_type']] = 0\n",
        "df_cleaned.loc[df['user_type'] == 'Volunteer', ['user_type']] = 1\n",
        "df_cleaned.loc[df['user_type'] ==  'NYC Parks Staff', ['user_type']] = -1\n",
        "\n",
        "df_cleaned.to_csv('Trees_Quantified.csv', index=False)\n",
        "\n",
        "\n",
        "\n"
      ]
    },
    {
      "cell_type": "code",
      "execution_count": null,
      "id": "fbe8dc45",
      "metadata": {
        "id": "fbe8dc45"
      },
      "outputs": [],
      "source": []
    }
  ],
  "metadata": {
    "kernelspec": {
      "display_name": "Python 3 (ipykernel)",
      "language": "python",
      "name": "python3"
    },
    "language_info": {
      "codemirror_mode": {
        "name": "ipython",
        "version": 3
      },
      "file_extension": ".py",
      "mimetype": "text/x-python",
      "name": "python",
      "nbconvert_exporter": "python",
      "pygments_lexer": "ipython3",
      "version": "3.9.12"
    },
    "colab": {
      "provenance": []
    }
  },
  "nbformat": 4,
  "nbformat_minor": 5
}